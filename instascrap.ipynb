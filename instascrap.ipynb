{
 "cells": [
  {
   "cell_type": "code",
   "execution_count": 10,
   "id": "5310b5aa",
   "metadata": {},
   "outputs": [
    {
     "name": "stdout",
     "output_type": "stream",
     "text": [
      "Requirement already satisfied: selenium in c:\\users\\ait boulahcen\\anaconda3\\lib\\site-packages (4.15.2)\n",
      "Requirement already satisfied: urllib3[socks]<3,>=1.26 in c:\\users\\ait boulahcen\\anaconda3\\lib\\site-packages (from selenium) (1.26.11)\n",
      "Requirement already satisfied: trio-websocket~=0.9 in c:\\users\\ait boulahcen\\anaconda3\\lib\\site-packages (from selenium) (0.11.1)\n",
      "Requirement already satisfied: certifi>=2021.10.8 in c:\\users\\ait boulahcen\\anaconda3\\lib\\site-packages (from selenium) (2022.9.14)\n",
      "Requirement already satisfied: trio~=0.17 in c:\\users\\ait boulahcen\\anaconda3\\lib\\site-packages (from selenium) (0.23.1)\n",
      "Requirement already satisfied: exceptiongroup>=1.0.0rc9 in c:\\users\\ait boulahcen\\anaconda3\\lib\\site-packages (from trio~=0.17->selenium) (1.1.3)\n",
      "Requirement already satisfied: cffi>=1.14 in c:\\users\\ait boulahcen\\anaconda3\\lib\\site-packages (from trio~=0.17->selenium) (1.15.1)\n",
      "Requirement already satisfied: idna in c:\\users\\ait boulahcen\\anaconda3\\lib\\site-packages (from trio~=0.17->selenium) (3.3)\n",
      "Requirement already satisfied: sortedcontainers in c:\\users\\ait boulahcen\\anaconda3\\lib\\site-packages (from trio~=0.17->selenium) (2.4.0)\n",
      "Requirement already satisfied: sniffio>=1.3.0 in c:\\users\\ait boulahcen\\anaconda3\\lib\\site-packages (from trio~=0.17->selenium) (1.3.0)\n",
      "Requirement already satisfied: attrs>=20.1.0 in c:\\users\\ait boulahcen\\anaconda3\\lib\\site-packages (from trio~=0.17->selenium) (21.4.0)\n",
      "Requirement already satisfied: outcome in c:\\users\\ait boulahcen\\anaconda3\\lib\\site-packages (from trio~=0.17->selenium) (1.3.0.post0)\n",
      "Requirement already satisfied: wsproto>=0.14 in c:\\users\\ait boulahcen\\anaconda3\\lib\\site-packages (from trio-websocket~=0.9->selenium) (1.2.0)\n",
      "Requirement already satisfied: PySocks!=1.5.7,<2.0,>=1.5.6 in c:\\users\\ait boulahcen\\anaconda3\\lib\\site-packages (from urllib3[socks]<3,>=1.26->selenium) (1.7.1)\n",
      "Requirement already satisfied: pycparser in c:\\users\\ait boulahcen\\anaconda3\\lib\\site-packages (from cffi>=1.14->trio~=0.17->selenium) (2.21)\n",
      "Requirement already satisfied: h11<1,>=0.9.0 in c:\\users\\ait boulahcen\\anaconda3\\lib\\site-packages (from wsproto>=0.14->trio-websocket~=0.9->selenium) (0.14.0)\n"
     ]
    }
   ],
   "source": [
    "!pip install selenium"
   ]
  },
  {
   "cell_type": "code",
   "execution_count": 25,
   "id": "10d4400d",
   "metadata": {},
   "outputs": [
    {
     "name": "stderr",
     "output_type": "stream",
     "text": [
      "[nltk_data] Downloading package punkt to C:\\Users\\Ait\n",
      "[nltk_data]     Boulahcen\\AppData\\Roaming\\nltk_data...\n",
      "[nltk_data]   Unzipping tokenizers\\punkt.zip.\n"
     ]
    },
    {
     "data": {
      "text/plain": [
       "True"
      ]
     },
     "execution_count": 25,
     "metadata": {},
     "output_type": "execute_result"
    }
   ],
   "source": [
    "nltk.download('punkt')\n"
   ]
  },
  {
   "cell_type": "code",
   "execution_count": 26,
   "id": "80f176b8",
   "metadata": {},
   "outputs": [],
   "source": [
    "\n",
    "#imports here\n",
    "from selenium import webdriver\n",
    "from selenium.webdriver.common.keys import Keys\n",
    "from selenium.webdriver.support import expected_conditions as EC\n",
    "from selenium.webdriver.common.by import By\n",
    "from selenium.webdriver.support.wait import WebDriverWait\n",
    "\n",
    "\n",
    "from selenium import webdriver\n",
    "import time, urllib.request\n",
    "from selenium import webdriver\n",
    "from selenium.webdriver import ChromeOptions\n",
    "from selenium.webdriver.common.action_chains import ActionChains\n",
    "from selenium.webdriver.common.by import By\n",
    "\n",
    "from selenium.webdriver import ChromeOptions\n",
    "from selenium.webdriver.common.action_chains import ActionChains\n",
    "import pandas as pd\n",
    "\n",
    "from selenium.webdriver.support.ui import WebDriverWait\n",
    "from selenium.webdriver.common.action_chains import ActionChains\n",
    "from selenium.common.exceptions import NoSuchElementException\n",
    "\n",
    "\n",
    "\n",
    "\n",
    "from selenium.webdriver.common.keys import Keys\n",
    "from selenium.webdriver.common.by import By\n",
    "from selenium.webdriver.common.action_chains import ActionChains\n",
    "from selenium.webdriver.support.ui import WebDriverWait\n",
    "from selenium.webdriver.support import expected_conditions as EC\n",
    "import time\n",
    "import pandas as pd\n",
    "\n",
    "\n",
    "from selenium import webdriver\n",
    "from selenium.webdriver.common.by import By\n",
    "from selenium.webdriver.common.keys import Keys\n",
    "from selenium.webdriver.common.action_chains import ActionChains\n",
    "from selenium.webdriver.support.ui import WebDriverWait\n",
    "from selenium.webdriver.support import expected_conditions as EC\n",
    "import pandas as pd\n",
    "import time\n",
    "\n",
    "\n",
    "from selenium import webdriver\n",
    "from selenium.webdriver.common.keys import Keys\n",
    "from selenium.webdriver.support import expected_conditions as EC\n",
    "from selenium.webdriver.common.by import By\n",
    "from selenium.webdriver.support.wait import WebDriverWait\n",
    "import time\n",
    "import re\n",
    "import pandas as pd"
   ]
  },
  {
   "cell_type": "code",
   "execution_count": 27,
   "id": "325052fa",
   "metadata": {},
   "outputs": [],
   "source": [
    "from selenium import webdriver\n",
    "from selenium.webdriver.common.by import By\n",
    "from selenium.webdriver.support.ui import WebDriverWait\n",
    "from selenium.webdriver.support import expected_conditions as EC\n",
    "\n",
    "driver = webdriver.Chrome()\n",
    "driver.get(\"http://www.instagram.com\")\n",
    "\n",
    "# Attentes explicites pour les éléments de connexion\n",
    "username = WebDriverWait(driver, 10).until(EC.element_to_be_clickable((By.CSS_SELECTOR, \"input[name='username']\")))\n",
    "password = WebDriverWait(driver, 10).until(EC.element_to_be_clickable((By.CSS_SELECTOR, \"input[name='password']\")))\n",
    "\n",
    "username.clear()\n",
    "username.send_keys(\"****\")\n",
    "password.clear()\n",
    "password.send_keys(\"*****\")\n",
    "\n",
    "button = WebDriverWait(driver, 5).until(EC.element_to_be_clickable((By.CSS_SELECTOR, \"button[type='submit']\")))\n",
    "button.click()\n",
    "\n",
    "# Attentes explicites pour les boutons \"Not Now\"\n",
    "try:\n",
    "    not_now_button = WebDriverWait(driver, 5).until(EC.element_to_be_clickable((By.XPATH, '//button[contains(text(), \"Save Info\")]')))\n",
    "    not_now_button.click()\n",
    "except Exception as e:\n",
    "    pass\n",
    "\n",
    "try:\n",
    "    not_now_button = WebDriverWait(driver, 5).until(EC.element_to_be_clickable((By.XPATH, '//button[contains(text(), \"Not Now\")]')))\n",
    "    not_now_button.click()\n",
    "except Exception as e:\n",
    "    pass\n",
    "\n",
    "# Attendre que la page se charge après la connexion\n",
    "WebDriverWait(driver, 10).until(EC.url_changes(\"http://www.instagram.com\"))\n",
    "\n",
    "keyword = \"hespress\"\n",
    "driver.get(f\"https://www.instagram.com/{keyword}/reels/\")\n",
    "\n",
    "# Vous pouvez également utiliser une attente explicite ici pour vous assurer que la page a été chargée avec succès\n",
    "# par exemple : WebDriverWait(driver, 10).until(EC.url_contains(f\"https://www.instagram.com/{keyword}/reels/\"))\n",
    "\n",
    "# Attente pour s'assurer que la page Reels est chargée\n",
    "#WebDriverWait(driver, 10).until(EC.presence_of_element_located((By.XPATH, \"//div[@role='button' and contains(text(), 'Watch')]\")))\n"
   ]
  },
  {
   "cell_type": "code",
   "execution_count": 28,
   "id": "9e60b3b2",
   "metadata": {},
   "outputs": [],
   "source": [
    "driver.execute_script(\"window.scrollBy(0,600)\",\"\")"
   ]
  },
  {
   "cell_type": "code",
   "execution_count": 29,
   "id": "f214db0e",
   "metadata": {},
   "outputs": [],
   "source": [
    "driver.implicitly_wait(60)\n",
    "\n",
    "views = driver.find_elements(By.XPATH, '//div[@class=\"_aajy\"]//span[contains(@class, \"x1vvkbs\")]')\n",
    "\n"
   ]
  },
  {
   "cell_type": "code",
   "execution_count": 30,
   "id": "9d1ab979",
   "metadata": {},
   "outputs": [
    {
     "data": {
      "text/plain": [
       "'77,1 k'"
      ]
     },
     "execution_count": 30,
     "metadata": {},
     "output_type": "execute_result"
    }
   ],
   "source": [
    "views[0].text"
   ]
  },
  {
   "cell_type": "code",
   "execution_count": 31,
   "id": "b5f50b7b",
   "metadata": {},
   "outputs": [
    {
     "name": "stdout",
     "output_type": "stream",
     "text": [
      "Found 24 video links\n",
      "['https://www.instagram.com/reel/Czr5fmDI8UT/', 'https://www.instagram.com/reel/Czr3rmlMj3B/', 'https://www.instagram.com/reel/Czr1_TGgADP/', 'https://www.instagram.com/reel/Czr1DTqN1ND/', 'https://www.instagram.com/reel/CzryuOaJkRx/']\n"
     ]
    }
   ],
   "source": [
    "# Obtenir tous les liens 'a'\n",
    "liens = driver.find_elements(By.TAG_NAME,'a')\n",
    "\n",
    "# Filtrer les liens commençant par \"https://www.instagram.com/reel/\"\n",
    "video_links = [a.get_attribute('href') for a in liens if str(a.get_attribute('href')).startswith(\"https://www.instagram.com/reel/\")]\n",
    "\n",
    "# Imprimer les résultats\n",
    "print('Found ' + str(len(video_links)) + ' video links')\n",
    "print(video_links[:5])"
   ]
  },
  {
   "cell_type": "code",
   "execution_count": 32,
   "id": "ff201459",
   "metadata": {},
   "outputs": [
    {
     "data": {
      "text/plain": [
       "<selenium.webdriver.remote.webelement.WebElement (session=\"769223d3fc93422276e08f84321ce483\", element=\"C837CB6E09A079C1347B0DE15578090C_element_97\")>"
      ]
     },
     "execution_count": 32,
     "metadata": {},
     "output_type": "execute_result"
    }
   ],
   "source": [
    "liens[0]"
   ]
  },
  {
   "cell_type": "code",
   "execution_count": 33,
   "id": "50ba16a3",
   "metadata": {},
   "outputs": [],
   "source": [
    "driver.get(video_links[0])"
   ]
  },
  {
   "cell_type": "code",
   "execution_count": 34,
   "id": "4681b5ab",
   "metadata": {},
   "outputs": [
    {
     "name": "stdout",
     "output_type": "stream",
     "text": [
      "Requirement already satisfied: langdetect in c:\\users\\ait boulahcen\\anaconda3\\lib\\site-packages (1.0.9)\n",
      "Requirement already satisfied: six in c:\\users\\ait boulahcen\\anaconda3\\lib\\site-packages (from langdetect) (1.16.0)\n"
     ]
    }
   ],
   "source": [
    "!pip install langdetect\n"
   ]
  },
  {
   "cell_type": "code",
   "execution_count": 35,
   "id": "5ad41028",
   "metadata": {},
   "outputs": [
    {
     "name": "stdout",
     "output_type": "stream",
     "text": [
      "Requirement already satisfied: nltk in c:\\users\\ait boulahcen\\anaconda3\\lib\\site-packages (3.7)\n",
      "Requirement already satisfied: tqdm in c:\\users\\ait boulahcen\\anaconda3\\lib\\site-packages (from nltk) (4.64.1)\n",
      "Requirement already satisfied: joblib in c:\\users\\ait boulahcen\\anaconda3\\lib\\site-packages (from nltk) (1.1.0)\n",
      "Requirement already satisfied: regex>=2021.8.3 in c:\\users\\ait boulahcen\\anaconda3\\lib\\site-packages (from nltk) (2022.7.9)\n",
      "Requirement already satisfied: click in c:\\users\\ait boulahcen\\anaconda3\\lib\\site-packages (from nltk) (8.0.4)\n",
      "Requirement already satisfied: colorama in c:\\users\\ait boulahcen\\anaconda3\\lib\\site-packages (from click->nltk) (0.4.5)\n"
     ]
    }
   ],
   "source": [
    "!pip install nltk"
   ]
  },
  {
   "cell_type": "code",
   "execution_count": 40,
   "id": "0c9ad4a7",
   "metadata": {},
   "outputs": [
    {
     "name": "stderr",
     "output_type": "stream",
     "text": [
      "[nltk_data] Downloading package vader_lexicon to C:\\Users\\Ait\n",
      "[nltk_data]     Boulahcen\\AppData\\Roaming\\nltk_data...\n"
     ]
    }
   ],
   "source": [
    "import nltk\n",
    "from langdetect import detect\n",
    "from nltk.sentiment import SentimentIntensityAnalyzer\n",
    "from collections import Counter\n",
    "from selenium.webdriver.common.by import By\n",
    "from selenium.webdriver.support.ui import WebDriverWait\n",
    "from selenium.webdriver.support import expected_conditions as EC\n",
    "import time\n",
    "import nltk\n",
    "nltk.download('vader_lexicon')\n",
    "\n",
    "# ...\n",
    "\n",
    "def Statistiques(link):\n",
    "    driver.get(link)\n",
    "    page_title = driver.title\n",
    "    comments_list = []\n",
    "    time.sleep(10)\n",
    "\n",
    "    # Extract comments\n",
    "    comments = driver.find_elements(By.XPATH, '//span[@class=\"x1lliihq x1plvlek xryxfnj x1n2onr6 x193iq5w xeuugli x1fj9vlw x13faqbe x1vvkbs x1s928wv xhkezso x1gmr53x x1cpjm7i x1fgarty x1943h6x x1i0vuye xvs91rp xo1l8bm x5n08af x10wh9bi x1wdrske x8viiok x18hxmgj\"]')\n",
    "\n",
    "    for comment in comments:\n",
    "        comments_list.append(comment.text)\n",
    "\n",
    "    # Find likes element\n",
    "    likes_elements = driver.find_elements(By.CLASS_NAME, \"html-span.xdj266r.x11i5rnm.xat24cr.x1mh8g0r.xexx8yu.x4uap5.x18d9i69.xkhd6sd.x1hl2dhg.x16tdsg8.x1vvkbs\")\n",
    "\n",
    "    if likes_elements:\n",
    "        likes_element = likes_elements[0]\n",
    "        likes_count = likes_element.text\n",
    "    else:\n",
    "        likes_count = 0\n",
    "\n",
    "    # Find meta tags\n",
    "    meta_tags = driver.find_elements(By.CSS_SELECTOR, 'meta[property=\"og:description\"]')\n",
    "\n",
    "    if meta_tags:\n",
    "        content = meta_tags[0].get_attribute(\"content\")\n",
    "        comments_Count = content.split('-')[0].strip()\n",
    "        split_comments = comments_Count.split(',')\n",
    "        if len(split_comments) > 1:\n",
    "            second_part = split_comments[1]\n",
    "        else:\n",
    "            second_part = None\n",
    "\n",
    "    # Extract date using datetime attribute\n",
    "    date_element = driver.find_element(By.XPATH, '//time[@class=\"_aaqe\"]')\n",
    "    extracted_date = date_element.get_attribute('datetime') if date_element else None\n",
    "\n",
    "    # Analyser les commentaires pour obtenir les mots les plus fréquents\n",
    "    all_comments_text = ' '.join(comments_list)\n",
    "    words = nltk.word_tokenize(all_comments_text)\n",
    "    word_frequencies = Counter(words)\n",
    "    most_common_words = word_frequencies.most_common(5)  # Les 5 mots les plus fréquents\n",
    "\n",
    "    # Déterminer la langue de chaque commentaire\n",
    "    languages = []\n",
    "    for comment in comments_list:\n",
    "        if len(comment) > 3:  # Vérifiez que le commentaire est assez long\n",
    "            try:\n",
    "                language = detect(comment)\n",
    "                languages.append(language)\n",
    "            except Exception as e:\n",
    "                print(f\"Error detecting language: {e}\")\n",
    "        else:\n",
    "            languages.append(None)\n",
    "\n",
    "    # Analyser la polarité de chaque commentaire\n",
    "    sia = SentimentIntensityAnalyzer()\n",
    "    polarities = [sia.polarity_scores(comment)['compound'] for comment in comments_list]\n",
    "\n",
    "    # ... (votre code existant)\n",
    "\n",
    "    data = {\n",
    "        'Page Title': page_title,\n",
    "        'link': link,\n",
    "        'Likes Count': likes_count,\n",
    "        'Comments Count': second_part,\n",
    "        'Date': extracted_date,\n",
    "        'Comments List': comments_list,\n",
    "        'Most Common Words': most_common_words,\n",
    "        'Languages': languages,\n",
    "        'Polarities': polarities\n",
    "    }\n",
    "\n",
    "    return data\n"
   ]
  },
  {
   "cell_type": "code",
   "execution_count": 41,
   "id": "1cfa6079",
   "metadata": {},
   "outputs": [
    {
     "name": "stdout",
     "output_type": "stream",
     "text": [
      "Error detecting language: No features in text.\n"
     ]
    },
    {
     "data": {
      "text/plain": [
       "{'Page Title': 'رجال التعليم بالعاصمة يرفضون النظام الجديد ويدافعون عن التلميذ #هسبريس #Hespress #فيديو_هسبريس #التعليم #العاصمة #النظام_الجديد #التلميذ\\xa0| Instagram',\n",
       " 'link': 'https://www.instagram.com/reel/Czr1_TGgADP/',\n",
       " 'Likes Count': '978',\n",
       " 'Comments Count': ' 82 comments',\n",
       " 'Date': '2023-11-15T23:30:05.000Z',\n",
       " 'Comments List': ['hespress\\n 2 h\\nرجال التعليم بالعاصمة يرفضون النظام الجديد ويدافعون عن التلميذ\\n\\n#هسبريس #Hespress #فيديو_هسبريس\\n#التعليم #العاصمة #النظام_الجديد #التلميذ',\n",
       "  'bassaievaslan',\n",
       "  'هاذ المعلمين اللي كايسميو راسهم أساتذة يريدون جر التلاميذ و أولياء الأمور لمعركة و صراع ثنائي بينهم و بين الدولة، حنا كأولياء أمور كنرفضوا محاولة إستغلالنا و وليداتنا من قبل هاذ المعلمين باردين الكتاف و ضعاف المستوى اللي ولفو الراحة و الخلصة المضمونة و اللي ماتيهمهمش اصلاح المنظومة التعليمية بقدر ما تيهمهم مصالحهم المادية و الراحة . المعلمين يستغلون التلاميذ و أوليائهم من أجل لي دراع الدولة لتحصيل منافع فئوية. المعلمين ولفو الراحة و الغياب و المردود الضعيف و ساعات العمل القليلة و الأجرة المضمونة.. هاذشي علاش دارو هاذ الحالة. و الضحية بالطبع هوما وليداتنا و حتى حنا .',\n",
       "  'mohamed_alllach',\n",
       "  'هادشي دليل على ان %99 من \"الاساتذة \"في المغرب ما ختاروش التعليم كمهنة بهدف نبيل و لا بغرض تعليم اجيال المستقبل ، الحاجة الوحيدة لجارهم لهاذ المهنة هي الصالير و ساعات العمل القليلة و العطل المدرسية + قريت القانون لخرجولهم و لي هاذ \"الاساتذة\" رافضينو فيه بلي خاصهم التكوين المستمر و المراقبة المستمرة ليهم باش اتحسن مستوى التعليم فالمغرب …. بخلاصة المتضرر الوحيد فهاد القضية هم ولاد الشعب لاسف',\n",
       "  'industriel_mimar_2',\n",
       "  'نعم للنظام ألأساسي ونعم للإقتطاع',\n",
       "  'nouhaila.eladnani',\n",
       "  'اعتذار رسمي من طرف الحكومة 😂💔معتاذروش منا حتى حنا لي هلكونا بالزيادات ابسط المواد لي كيعيش بيهم الدرويش زادو فيهم اودي مع من نتوما',\n",
       "  'elhassan_jafra',\n",
       "  '✌✌✌✌✌✌✌',\n",
       "  'ameramera14078',\n",
       "  '✌️',\n",
       "  'zakaria.alw',\n",
       "  'مناش ايدافعوا على التلميذ؟',\n",
       "  'ticmed19',\n",
       "  'تحية للصديق محمد تمير',\n",
       "  'arima.arimas',\n",
       "  'الله انصرهم على من عاداهم ❤️',\n",
       "  'bassaievaslan',\n",
       "  'بإختصار ، المعلمين إعتادوا المجهود الضعيف و المردود الهزيل و ساعات العمل القليلة و الأجرة المضمونة، ولهذا رفضوا النظام الجديد لأنه يشكل لهم قطيعة مع التسيب الذي كان حاصلا. و المعلمين آخر همهم هو إصلاح المنظومة التعليمية و بدليل أن النظام الجديد جزء من الإصلاح لكنهم يرفضونه لأنه يمس براحة و تسيّب سيادتهم. هاذي هي الحقيقة اللي ماغادياش تعجب المعلمين اللي كيسميو راسهم أساتذة يسمعوها . و بالطبع الهجوم على تعليقي الواقعي.',\n",
       "  'fatii60920',\n",
       "  'يدافعون عن التلميذ😂😂😂',\n",
       "  'mehlayile',\n",
       "  'يدافعون على التلميذ 😂😂😂😂😂 نكتة العصر 😂',\n",
       "  'ciro.benhayoune',\n",
       "  'وراه اساتدة فالمغرب مكلخين هما خاصهم استاذ....تعليم عندنا خاص يجريو على كاع هاد الحزاق و يجيبو لوليداتنا اساتدة من اوكرانيا',\n",
       "  'yasifsamir4',\n",
       "  'استاذ ماباغيش الرقابة وماباغيش سلطة وتراتبية اللي تحكمو يعني استاذ سايب ومتسيب وباغي الفوضى',\n",
       "  'bassaievaslan',\n",
       "  'المغاربة تايخدمو من 8 تال 12 ساعة تايحللوا رزقهم ، و هاذ الشردمة تايخدموا 4 الساعات و الخلصة باردة و المجهود قليل ،،، و زايدينها بالإضراب . مستواهم ضعيف و اللخر فيهم تايشد 6500 درهم . الجشع خايب . حللوا رزقكم المعلمين .',\n",
       "  '978 J’aime'],\n",
       " 'Most Common Words': [('و', 33),\n",
       "  ('.', 13),\n",
       "  ('من', 9),\n",
       "  ('المعلمين', 8),\n",
       "  ('#', 7)],\n",
       " 'Languages': ['ar',\n",
       "  'lv',\n",
       "  'ar',\n",
       "  'en',\n",
       "  'ar',\n",
       "  'et',\n",
       "  'ar',\n",
       "  'tl',\n",
       "  'ar',\n",
       "  'fi',\n",
       "  'id',\n",
       "  None,\n",
       "  'sw',\n",
       "  'ar',\n",
       "  'en',\n",
       "  'ar',\n",
       "  'lt',\n",
       "  'ar',\n",
       "  'lv',\n",
       "  'ar',\n",
       "  'ro',\n",
       "  'ar',\n",
       "  'tr',\n",
       "  'ar',\n",
       "  'pt',\n",
       "  'ar',\n",
       "  'id',\n",
       "  'ar',\n",
       "  'lv',\n",
       "  'ar',\n",
       "  'fi'],\n",
       " 'Polarities': [0.0,\n",
       "  0.0,\n",
       "  0.0,\n",
       "  0.0,\n",
       "  0.0,\n",
       "  0.0,\n",
       "  0.0,\n",
       "  0.0,\n",
       "  0.0,\n",
       "  0.0,\n",
       "  0.0,\n",
       "  0.0,\n",
       "  0.0,\n",
       "  0.0,\n",
       "  0.0,\n",
       "  0.0,\n",
       "  0.0,\n",
       "  0.0,\n",
       "  0.0,\n",
       "  0.0,\n",
       "  0.0,\n",
       "  0.0,\n",
       "  0.0,\n",
       "  0.0,\n",
       "  0.0,\n",
       "  0.0,\n",
       "  0.0,\n",
       "  0.0,\n",
       "  0.0,\n",
       "  0.0,\n",
       "  0.0,\n",
       "  0.0]}"
      ]
     },
     "execution_count": 41,
     "metadata": {},
     "output_type": "execute_result"
    }
   ],
   "source": [
    "Statistiques(video_links[2])"
   ]
  },
  {
   "cell_type": "code",
   "execution_count": 42,
   "id": "8b1049e9",
   "metadata": {},
   "outputs": [],
   "source": [
    "# Ajoutez cette importation au début de votre code\n",
    "from selenium.webdriver.common.keys import Keys\n",
    "\n",
    "# ...\n",
    "\n",
    "def extraire_videos_reels(keyword, nombre_videos=5):\n",
    "    # ... (votre code existant)\n",
    "\n",
    "    # Récupérer des statistiques pour chaque vidéo\n",
    "    data_list = []\n",
    "    for i, video_link in enumerate(video_links[:nombre_videos]):\n",
    "        print(f\"\\nProcessing video {i + 1}/{nombre_videos}\")\n",
    "        data = Statistiques(video_link)\n",
    "\n",
    "        # Cliquez sur le bouton suivant pour passer à la vidéo suivante\n",
    "        bouton_suivant = driver.find_element(By.CSS_SELECTOR, 'button._abl-')\n",
    "        bouton_suivant.click()\n",
    "\n",
    "        data_list.append(data)\n",
    "\n",
    "    return data_list\n",
    "\n",
    "# ...\n"
   ]
  },
  {
   "cell_type": "code",
   "execution_count": 43,
   "id": "4c16c5d2",
   "metadata": {},
   "outputs": [
    {
     "name": "stdout",
     "output_type": "stream",
     "text": [
      "\n",
      "Processing video 1/5\n",
      "Video 1 Information:\n",
      "Page Title: خمس سنوات على إطلاق البراق ..صداقة مع البيئة وتذاكر بخمسونا درهماً #هسبريس #Hespress #فيديو_هسبريس #البراق #البيئة #تذاكر | Instagram\n",
      "Link: https://www.instagram.com/reel/Czr5fmDI8UT/\n",
      "Likes Count: 746\n",
      "Comments Count:  13 comments\n",
      "Date: 2023-11-16T00:00:08.000Z\n",
      "Comments List: ['hespress\\n 1 h\\nخمس سنوات على إطلاق البراق ..صداقة مع البيئة وتذاكر بخمسونا درهماً\\n\\n#هسبريس #Hespress #فيديو_هسبريس\\n#البراق #البيئة #تذاكر', 'simorazki9', 'ناجح ملي كيبيع ميريندنا ب 9 دراهم😂😂😂😂😂', 'nouhaila.eladnani', 'خمس سنوات و هو خدام و عمرنا ركبنا فيه 😂', 'simorazki9', 'تدكرة بخمسين درهم وريد بول وميريندا 60 درهم😂😂😂😂', 'marwa.elbouanani', 'لا اختي الاسعار ماااشي فالمتناول', 'aimaasuuu', 'اوكي بااي', '___________zen____________', 'أودي الدرجة الثانية ديال البوراق ولات حتى هيا شعبية و السفر فيها غير مريح مع شي نماذج عروبية عمروها... كتبقى الصراحة الدرجة الأولى هي المناسبة ل سفر مريح مع ناس نقية، لا من ناحية الريحة و التعامل 😏', '746 J’aime']\n",
      "\n",
      "==================================================\n",
      "\n",
      "\n",
      "Processing video 2/5\n",
      "Video 2 Information:\n",
      "Page Title: دواء للسكري أم لتخسيس الوزن؟ دول أوروبية تحظر أزامبيك #هسبريس #Hespress #فيديو_هسبريس #السكري #الوزن #أزامبيك #أوروبا | Instagram\n",
      "Link: https://www.instagram.com/reel/Czr3rmlMj3B/\n",
      "Likes Count: 1 101\n",
      "Comments Count: 101 likes\n",
      "Date: 2023-11-15T23:40:55.000Z\n",
      "Comments List: ['hespress\\n 2 h\\nدواء للسكري أم لتخسيس الوزن؟ دول أوروبية تحظر أزامبيك\\n\\n#هسبريس #Hespress #فيديو_هسبريس\\n#السكري #الوزن #أزامبيك #أوروبا', 'samaraalamu', 'واش كاين فالمغرب؟؟؟', 'nouhaila.eladnani', 'بنادم مكانش عارفو صالح لفقدان الوزن مع هسبريس كلشي عرفو و حتى انا عرفتو و غدا ان شاء الله غنمشي نشريه شكرا هسبريس دمتي ذكية 👌', 'simi.bou', 'انا اخصائية غذاءبة في امريكا ومنهزم حاليا في كلينيك السكري. اليوم عاد هدرت مع cousin ديالي في بريطانيا سمعني تسجيل وحد الصيدلي قال ليه را كاين نقص في السطوك، حتى هنا في امريكا كاين نقص حيت كاقدرينش يواكبو الطلب- المصانع كتخدمي ليل ونهار باش توفرو في السوق. في امريكا ملايين الناس تعاني من السكري ىالسمنة وهاد الدواء مرخص كذالك للمرضى لي عندهم السمنة فقط. هي عبارة عن حقنة تعطى مرة في الاسبوع. غير اوكان حنا في امريكا عندما البديل د اوزمبيك (اوزمبيك كتصنعو شركة نوفو نورديك لي هي دنماركية) في امريكا عندنا شركة Lilly كتصنع وحد النوع اخر اقوى من اوزمبيك اسم Mounjaro وهو غالي اكثر من ozempic وكيسبب نقص اكثر من اوزمبيك حيت فيه 2 active ingredients GLP-1 and GIP:', 'naimachall', 'التمن', 'iman.e7296', 'آه صراحة ضعفني و الكرش دابت و رسم ليا الفورمة 😂 الله يمسخكم انا كانضربها و زوج أنواع عامين هذه هضره مامنها والو', 'eila_lea', 'مرضى السكري النوع التاني', 'hibakamal07', 'ناري على بلان .. بنادم دبا غيطرطق البنكرياس و ياكم الناس !! راه هادا دوا للسكري فقط !!! اللهم 10 كيلو زايدة و لا دقة البنكرياس و دياليز', 'bedrnawal', 'يجب تسمية الأمور بمسمياتها، بلجيكا منعت وصفه للسمنة وكحل اول للسكري نوع ثاني بسبب تكلفته بالنسبة للتغطية الصحية يعني يكلف الدولة البلجيكية الشيء الكثير ....', 'mariam.us1985', 'واعرة اوزمبيك انا شريتها خذيتها شهر واحد طيحت 7 كيلو ولكن راه العذاب تشوفي الماكلة تشدك الرضه كتولي بحال الي كتوحم وضروري قبل ماضربيها تاخذي فنيدة ديال المعدة', 'maryoul_x18', 'ححححح😍🥺🥵😍🔥🥵🤤🥺🥵', '1\\u202f101 J’aime']\n",
      "\n",
      "==================================================\n",
      "\n",
      "\n",
      "Processing video 3/5\n",
      "Error detecting language: No features in text.\n",
      "Video 3 Information:\n",
      "Page Title: رجال التعليم بالعاصمة يرفضون النظام الجديد ويدافعون عن التلميذ #هسبريس #Hespress #فيديو_هسبريس #التعليم #العاصمة #النظام_الجديد #التلميذ | Instagram\n",
      "Link: https://www.instagram.com/reel/Czr1_TGgADP/\n",
      "Likes Count: 979\n",
      "Comments Count:  82 comments\n",
      "Date: 2023-11-15T23:30:05.000Z\n",
      "Comments List: ['hespress\\n 2 h\\nرجال التعليم بالعاصمة يرفضون النظام الجديد ويدافعون عن التلميذ\\n\\n#هسبريس #Hespress #فيديو_هسبريس\\n#التعليم #العاصمة #النظام_الجديد #التلميذ', 'bassaievaslan', 'هاذ المعلمين اللي كايسميو راسهم أساتذة يريدون جر التلاميذ و أولياء الأمور لمعركة و صراع ثنائي بينهم و بين الدولة، حنا كأولياء أمور كنرفضوا محاولة إستغلالنا و وليداتنا من قبل هاذ المعلمين باردين الكتاف و ضعاف المستوى اللي ولفو الراحة و الخلصة المضمونة و اللي ماتيهمهمش اصلاح المنظومة التعليمية بقدر ما تيهمهم مصالحهم المادية و الراحة . المعلمين يستغلون التلاميذ و أوليائهم من أجل لي دراع الدولة لتحصيل منافع فئوية. المعلمين ولفو الراحة و الغياب و المردود الضعيف و ساعات العمل القليلة و الأجرة المضمونة.. هاذشي علاش دارو هاذ الحالة. و الضحية بالطبع هوما وليداتنا و حتى حنا .', 'mohamed_alllach', 'هادشي دليل على ان %99 من \"الاساتذة \"في المغرب ما ختاروش التعليم كمهنة بهدف نبيل و لا بغرض تعليم اجيال المستقبل ، الحاجة الوحيدة لجارهم لهاذ المهنة هي الصالير و ساعات العمل القليلة و العطل المدرسية + قريت القانون لخرجولهم و لي هاذ \"الاساتذة\" رافضينو فيه بلي خاصهم التكوين المستمر و المراقبة المستمرة ليهم باش اتحسن مستوى التعليم فالمغرب …. بخلاصة المتضرر الوحيد فهاد القضية هم ولاد الشعب لاسف', 'industriel_mimar_2', 'نعم للنظام ألأساسي ونعم للإقتطاع', 'nouhaila.eladnani', 'اعتذار رسمي من طرف الحكومة 😂💔معتاذروش منا حتى حنا لي هلكونا بالزيادات ابسط المواد لي كيعيش بيهم الدرويش زادو فيهم اودي مع من نتوما', 'elhassan_jafra', '✌✌✌✌✌✌✌', 'ameramera14078', '✌️', 'zakaria.alw', 'مناش ايدافعوا على التلميذ؟', 'ticmed19', 'تحية للصديق محمد تمير', 'arima.arimas', 'الله انصرهم على من عاداهم ❤️', 'bassaievaslan', 'بإختصار ، المعلمين إعتادوا المجهود الضعيف و المردود الهزيل و ساعات العمل القليلة و الأجرة المضمونة، ولهذا رفضوا النظام الجديد لأنه يشكل لهم قطيعة مع التسيب الذي كان حاصلا. و المعلمين آخر همهم هو إصلاح المنظومة التعليمية و بدليل أن النظام الجديد جزء من الإصلاح لكنهم يرفضونه لأنه يمس براحة و تسيّب سيادتهم. هاذي هي الحقيقة اللي ماغادياش تعجب المعلمين اللي كيسميو راسهم أساتذة يسمعوها . و بالطبع الهجوم على تعليقي الواقعي.', 'fatii60920', 'يدافعون عن التلميذ😂😂😂', 'mehlayile', 'يدافعون على التلميذ 😂😂😂😂😂 نكتة العصر 😂', 'ciro.benhayoune', 'وراه اساتدة فالمغرب مكلخين هما خاصهم استاذ....تعليم عندنا خاص يجريو على كاع هاد الحزاق و يجيبو لوليداتنا اساتدة من اوكرانيا', 'yasifsamir4', 'استاذ ماباغيش الرقابة وماباغيش سلطة وتراتبية اللي تحكمو يعني استاذ سايب ومتسيب وباغي الفوضى', 'bassaievaslan', 'المغاربة تايخدمو من 8 تال 12 ساعة تايحللوا رزقهم ، و هاذ الشردمة تايخدموا 4 الساعات و الخلصة باردة و المجهود قليل ،،، و زايدينها بالإضراب . مستواهم ضعيف و اللخر فيهم تايشد 6500 درهم . الجشع خايب . حللوا رزقكم المعلمين .', '979 J’aime']\n",
      "\n",
      "==================================================\n",
      "\n",
      "\n",
      "Processing video 4/5\n",
      "Video 4 Information:\n",
      "Page Title: على خلفية سقوطه المتكرر.. هل صحيح تدحرجُ بايدن وإصابتُه بسكتة قلبية كما يزعم فيديو راج مؤخرا؟ #هسبريس #Hespress #فيديو_هسبريس #بايدن… | Instagram\n",
      "Link: https://www.instagram.com/reel/Czr1DTqN1ND/\n",
      "Likes Count: 3 528\n",
      "Comments Count: None\n",
      "Date: 2023-11-15T23:18:01.000Z\n",
      "Comments List: ['hespress\\n 2 h\\nعلى خلفية سقوطه المتكرر.. هل صحيح تدحرجُ بايدن وإصابتُه بسكتة قلبية كما يزعم فيديو راج مؤخرا؟\\n\\n#هسبريس #Hespress #فيديو_هسبريس\\n#بايدن #فيديو #سكتة_قلبية', 'simorazki9', 'الله يسكت لمووو قلب وشراين وبصلة سيسائية ونخاع شوكي..وشق رونالدو 😂😂😂😂', 'azeddine_afif', 'إلا مات هذا الحفلة على حسابي كولشي معروض', 'hicham_bohdidi1', 'بايدن ❌ روبوت ✅', 'afaf_ami', 'امريكا كتختار الرؤوساء ديالها من شي دار العجزة مؤخرا', 'rosalinda_.o0', 'ياربي شي عثرة كبيرة يتدحرج حتى يمو.ت🙂🤲🏻🤲🏻🤲🏻', 'wa___fa09', 'يطيح ما ينوض إن شاء لله', 'bnhachmizakaria', 'دعاوي إخوانونا المسلمين خرجو فيه', 'fatifati00826', 'مومياء تتحرك', 'simorazki9', 'بايدين❌\\nروبوت مكيشدش شارج✅😂😂😂😂😂😂', 'sanaa_abbou1', 'آش هاد الموسيقى دايرين لا حول ولا قوه الا بالله على إعلام 🤦🏻\\u200d♀️', 'siniorita_sany', 'قريبا باذن الله تعالى', 'youssi_mansor', 'Lah y3teh l3adab yarabi', 'eila_lea', 'حتى فرحت', 'fouad_berrada1', 'غادي و يحزق', 'life_of_amy_ayzi', 'انشالله شي طيحة ميعاود يهز فيها راس يارب العالمين', '3\\u202f528 J’aime']\n",
      "\n",
      "==================================================\n",
      "\n",
      "\n",
      "Processing video 5/5\n",
      "Video 5 Information:\n",
      "Page Title: شركاء من أوروبا وأمريكا الشمالية.. كلية الرباط للأعمال تجمع ممثلي جامعات دولية في الرباط #هسبريس #Hespress #فيديو_هسبريس #جامعات_دولية… | Instagram\n",
      "Link: https://www.instagram.com/reel/CzryuOaJkRx/\n",
      "Likes Count: 213\n",
      "Comments Count:  0 comments\n",
      "Date: 2023-11-15T23:01:07.000Z\n",
      "Comments List: ['hespress\\n 2 h\\nشركاء من أوروبا وأمريكا الشمالية.. كلية الرباط للأعمال تجمع ممثلي جامعات دولية في الرباط\\n\\n#هسبريس #Hespress #فيديو_هسبريس\\n#جامعات_دولية #أوروبا #أمريكا #كلية_الرباط', '213 J’aime']\n",
      "\n",
      "==================================================\n",
      "\n"
     ]
    }
   ],
   "source": [
    "# ...\n",
    "\n",
    "# Définir la variable nombre_videos\n",
    "nombre_videos = 5  # ou tout autre nombre que vous préférez\n",
    "\n",
    "# Récupérer des statistiques pour chaque vidéo\n",
    "data_list = []\n",
    "for i, video_link in enumerate(video_links[:nombre_videos]):\n",
    "    print(f\"\\nProcessing video {i + 1}/{nombre_videos}\")\n",
    "    data = Statistiques(video_link)\n",
    "    data_list.append(data)\n",
    "    \n",
    "    # Imprimer les informations pour chaque vidéo\n",
    "    print(f\"Video {i + 1} Information:\")\n",
    "    print(\"Page Title:\", data['Page Title'])\n",
    "    print(\"Link:\", data['link'])\n",
    "    print(\"Likes Count:\", data['Likes Count'])\n",
    "    print(\"Comments Count:\", data['Comments Count'])\n",
    "    print(\"Date:\", data['Date'])\n",
    "    print(\"Comments List:\", data['Comments List'])\n",
    "    print(\"\\n\" + \"=\"*50 + \"\\n\")  # Séparateur visuel entre les vidéos\n",
    "\n",
    "# ...\n"
   ]
  },
  {
   "cell_type": "code",
   "execution_count": 45,
   "id": "c9f454e4",
   "metadata": {},
   "outputs": [
    {
     "name": "stdout",
     "output_type": "stream",
     "text": [
      "\n",
      "Processing video 1/5\n",
      "\n",
      "Processing video 2/5\n",
      "Video 2 Information:\n",
      "Page Title: دواء للسكري أم لتخسيس الوزن؟ دول أوروبية تحظر أزامبيك #هسبريس #Hespress #فيديو_هسبريس #السكري #الوزن #أزامبيك #أوروبا | Instagram\n",
      "Link: https://www.instagram.com/reel/Czr3rmlMj3B/\n",
      "Likes Count: 1 108\n",
      "Comments Count: 108 likes\n",
      "Date: 2023-11-15T23:40:55.000Z\n",
      "Comments List: ['hespress\\n 2 h\\nدواء للسكري أم لتخسيس الوزن؟ دول أوروبية تحظر أزامبيك\\n\\n#هسبريس #Hespress #فيديو_هسبريس\\n#السكري #الوزن #أزامبيك #أوروبا', 'samaraalamu', 'واش كاين فالمغرب؟؟؟', 'nouhaila.eladnani', 'بنادم مكانش عارفو صالح لفقدان الوزن مع هسبريس كلشي عرفو و حتى انا عرفتو و غدا ان شاء الله غنمشي نشريه شكرا هسبريس دمتي ذكية 👌', 'simi.bou', 'انا اخصائية غذاءبة في امريكا ومنهزم حاليا في كلينيك السكري. اليوم عاد هدرت مع cousin ديالي في بريطانيا سمعني تسجيل وحد الصيدلي قال ليه را كاين نقص في السطوك، حتى هنا في امريكا كاين نقص حيت كاقدرينش يواكبو الطلب- المصانع كتخدمي ليل ونهار باش توفرو في السوق. في امريكا ملايين الناس تعاني من السكري ىالسمنة وهاد الدواء مرخص كذالك للمرضى لي عندهم السمنة فقط. هي عبارة عن حقنة تعطى مرة في الاسبوع. غير اوكان حنا في امريكا عندما البديل د اوزمبيك (اوزمبيك كتصنعو شركة نوفو نورديك لي هي دنماركية) في امريكا عندنا شركة Lilly كتصنع وحد النوع اخر اقوى من اوزمبيك اسم Mounjaro وهو غالي اكثر من ozempic وكيسبب نقص اكثر من اوزمبيك حيت فيه 2 active ingredients GLP-1 and GIP:', 'naimachall', 'التمن', 'eila_lea', 'مرضى السكري النوع التاني', 'hibakamal07', 'ناري على بلان .. بنادم دبا غيطرطق البنكرياس و ياكم الناس !! راه هادا دوا للسكري فقط !!! اللهم 10 كيلو زايدة و لا دقة البنكرياس و دياليز', 'bedrnawal', 'يجب تسمية الأمور بمسمياتها، بلجيكا منعت وصفه للسمنة وكحل اول للسكري نوع ثاني بسبب تكلفته بالنسبة للتغطية الصحية يعني يكلف الدولة البلجيكية الشيء الكثير ....', 'mariam.us1985', 'واعرة اوزمبيك انا شريتها خذيتها شهر واحد طيحت 7 كيلو ولكن راه العذاب تشوفي الماكلة تشدك الرضه كتولي بحال الي كتوحم وضروري قبل ماضربيها تاخذي فنيدة ديال المعدة', 'maryoul_x18', 'ححححح😍🥺🥵😍🔥🥵🤤🥺🥵', 'iman.e7296', 'آه صراحة ضعفني و الكرش دابت و رسم ليا الفورمة 😂 الله يمسخكم انا كانضربها و زوج أنواع عامين هذه هضره مامنها والو', '1\\u202f108 J’aime']\n",
      "Most Common Words: [('في', 10), ('و', 8), ('#', 7), ('امريكا', 5), ('اوزمبيك', 5)]\n",
      "Languages: ['ar', 'so', 'ar', 'tl', 'ar', 'sq', 'ar', 'sw', 'ar', 'ro', 'ar', 'tl', 'ar', 'id', 'ar', 'lt', 'ar', 'so', 'ar', 'it', 'ar', 'fi']\n",
      "Polarities: [0.0, 0.0, 0.0, 0.0, 0.0, 0.0, 0.4019, 0.0, 0.0, 0.0, 0.0, 0.0, 0.0, 0.0, 0.0, 0.0, 0.0, 0.0, 0.0, 0.0, 0.0, 0.0]\n",
      "\n",
      "==================================================\n",
      "\n",
      "\n",
      "Processing video 3/5\n",
      "Error detecting language: No features in text.\n",
      "Video 3 Information:\n",
      "Page Title: رجال التعليم بالعاصمة يرفضون النظام الجديد ويدافعون عن التلميذ #هسبريس #Hespress #فيديو_هسبريس #التعليم #العاصمة #النظام_الجديد #التلميذ | Instagram\n",
      "Link: https://www.instagram.com/reel/Czr1_TGgADP/\n",
      "Likes Count: 981\n",
      "Comments Count:  83 comments\n",
      "Date: 2023-11-15T23:30:05.000Z\n",
      "Comments List: ['hespress\\n 2 h\\nرجال التعليم بالعاصمة يرفضون النظام الجديد ويدافعون عن التلميذ\\n\\n#هسبريس #Hespress #فيديو_هسبريس\\n#التعليم #العاصمة #النظام_الجديد #التلميذ', 'bassaievaslan', 'هاذ المعلمين اللي كايسميو راسهم أساتذة يريدون جر التلاميذ و أولياء الأمور لمعركة و صراع ثنائي بينهم و بين الدولة، حنا كأولياء أمور كنرفضوا محاولة إستغلالنا و وليداتنا من قبل هاذ المعلمين باردين الكتاف و ضعاف المستوى اللي ولفو الراحة و الخلصة المضمونة و اللي ماتيهمهمش اصلاح المنظومة التعليمية بقدر ما تيهمهم مصالحهم المادية و الراحة . المعلمين يستغلون التلاميذ و أوليائهم من أجل لي دراع الدولة لتحصيل منافع فئوية. المعلمين ولفو الراحة و الغياب و المردود الضعيف و ساعات العمل القليلة و الأجرة المضمونة.. هاذشي علاش دارو هاذ الحالة. و الضحية بالطبع هوما وليداتنا و حتى حنا .', 'mohamed_alllach', 'هادشي دليل على ان %99 من \"الاساتذة \"في المغرب ما ختاروش التعليم كمهنة بهدف نبيل و لا بغرض تعليم اجيال المستقبل ، الحاجة الوحيدة لجارهم لهاذ المهنة هي الصالير و ساعات العمل القليلة و العطل المدرسية + قريت القانون لخرجولهم و لي هاذ \"الاساتذة\" رافضينو فيه بلي خاصهم التكوين المستمر و المراقبة المستمرة ليهم باش اتحسن مستوى التعليم فالمغرب …. بخلاصة المتضرر الوحيد فهاد القضية هم ولاد الشعب لاسف', 'industriel_mimar_2', 'نعم للنظام ألأساسي ونعم للإقتطاع', 'nouhaila.eladnani', 'اعتذار رسمي من طرف الحكومة 😂💔معتاذروش منا حتى حنا لي هلكونا بالزيادات ابسط المواد لي كيعيش بيهم الدرويش زادو فيهم اودي مع من نتوما', 'elhassan_jafra', '✌✌✌✌✌✌✌', 'ameramera14078', '✌️', 'zakaria.alw', 'مناش ايدافعوا على التلميذ؟', 'ticmed19', 'تحية للصديق محمد تمير', 'arima.arimas', 'الله انصرهم على من عاداهم ❤️', 'bassaievaslan', 'بإختصار ، المعلمين إعتادوا المجهود الضعيف و المردود الهزيل و ساعات العمل القليلة و الأجرة المضمونة، ولهذا رفضوا النظام الجديد لأنه يشكل لهم قطيعة مع التسيب الذي كان حاصلا. و المعلمين آخر همهم هو إصلاح المنظومة التعليمية و بدليل أن النظام الجديد جزء من الإصلاح لكنهم يرفضونه لأنه يمس براحة و تسيّب سيادتهم. هاذي هي الحقيقة اللي ماغادياش تعجب المعلمين اللي كيسميو راسهم أساتذة يسمعوها . و بالطبع الهجوم على تعليقي الواقعي.', 'fatii60920', 'يدافعون عن التلميذ😂😂😂', 'mehlayile', 'يدافعون على التلميذ 😂😂😂😂😂 نكتة العصر 😂', 'ciro.benhayoune', 'وراه اساتدة فالمغرب مكلخين هما خاصهم استاذ....تعليم عندنا خاص يجريو على كاع هاد الحزاق و يجيبو لوليداتنا اساتدة من اوكرانيا', 'yasifsamir4', 'استاذ ماباغيش الرقابة وماباغيش سلطة وتراتبية اللي تحكمو يعني استاذ سايب ومتسيب وباغي الفوضى', 'bassaievaslan', 'المغاربة تايخدمو من 8 تال 12 ساعة تايحللوا رزقهم ، و هاذ الشردمة تايخدموا 4 الساعات و الخلصة باردة و المجهود قليل ،،، و زايدينها بالإضراب . مستواهم ضعيف و اللخر فيهم تايشد 6500 درهم . الجشع خايب . حللوا رزقكم المعلمين .', '981 J’aime']\n",
      "Most Common Words: [('و', 33), ('.', 13), ('من', 9), ('المعلمين', 8), ('#', 7)]\n",
      "Languages: ['ar', 'lv', 'ar', 'en', 'ar', 'et', 'ar', 'tl', 'ar', 'fi', 'id', None, 'sw', 'ar', 'en', 'ar', 'lt', 'ar', 'lv', 'ar', 'ro', 'ar', 'tr', 'ar', 'so', 'ar', 'tr', 'ar', 'lv', 'ar', 'fi']\n",
      "Polarities: [0.0, 0.0, 0.0, 0.0, 0.0, 0.0, 0.0, 0.0, 0.0, 0.0, 0.0, 0.0, 0.0, 0.0, 0.0, 0.0, 0.0, 0.0, 0.0, 0.0, 0.0, 0.0, 0.0, 0.0, 0.0, 0.0, 0.0, 0.0, 0.0, 0.0, 0.0, 0.0]\n",
      "\n",
      "==================================================\n",
      "\n",
      "\n",
      "Processing video 4/5\n",
      "Video 4 Information:\n",
      "Page Title: على خلفية سقوطه المتكرر.. هل صحيح تدحرجُ بايدن وإصابتُه بسكتة قلبية كما يزعم فيديو راج مؤخرا؟ #هسبريس #Hespress #فيديو_هسبريس #بايدن… | Instagram\n",
      "Link: https://www.instagram.com/reel/Czr1DTqN1ND/\n",
      "Likes Count: 3 538\n",
      "Comments Count: None\n",
      "Date: 2023-11-15T23:18:01.000Z\n",
      "Comments List: ['hespress\\n 2 h\\nعلى خلفية سقوطه المتكرر.. هل صحيح تدحرجُ بايدن وإصابتُه بسكتة قلبية كما يزعم فيديو راج مؤخرا؟\\n\\n#هسبريس #Hespress #فيديو_هسبريس\\n#بايدن #فيديو #سكتة_قلبية', 'simorazki9', 'الله يسكت لمووو قلب وشراين وبصلة سيسائية ونخاع شوكي..وشق رونالدو 😂😂😂😂', 'azeddine_afif', 'إلا مات هذا الحفلة على حسابي كولشي معروض', 'hicham_bohdidi1', 'بايدن ❌ روبوت ✅', 'afaf_ami', 'امريكا كتختار الرؤوساء ديالها من شي دار العجزة مؤخرا', 'rosalinda_.o0', 'ياربي شي عثرة كبيرة يتدحرج حتى يمو.ت🙂🤲🏻🤲🏻🤲🏻', 'wa___fa09', 'يطيح ما ينوض إن شاء لله', 'bnhachmizakaria', 'دعاوي إخوانونا المسلمين خرجو فيه', 'fatifati00826', 'مومياء تتحرك', 'simorazki9', 'بايدين❌\\nروبوت مكيشدش شارج✅😂😂😂😂😂😂', 'sanaa_abbou1', 'آش هاد الموسيقى دايرين لا حول ولا قوه الا بالله على إعلام 🤦🏻\\u200d♀️', 'siniorita_sany', 'قريبا باذن الله تعالى', 'youssi_mansor', 'Lah y3teh l3adab yarabi', 'eila_lea', 'حتى فرحت', 'fouad_berrada1', 'غادي و يحزق', 'life_of_amy_ayzi', 'انشالله شي طيحة ميعاود يهز فيها راس يارب العالمين', '3\\u202f538 J’aime']\n",
      "Most Common Words: [('#', 6), ('على', 3), ('بايدن', 3), ('شي', 3), ('..', 2)]\n",
      "Languages: ['ar', 'sl', 'ar', 'cy', 'ar', 'cy', 'fa', 'da', 'ar', 'pt', 'ar', 'sw', 'ar', 'sw', 'ar', 'sw', 'ar', 'pl', 'fa', 'so', 'ar', 'tl', 'ar', 'fi', 'id', 'ro', 'ar', 'ca', 'ar', 'en', 'ar', 'fi']\n",
      "Polarities: [0.0, 0.0, 0.0, 0.0, 0.0, 0.0, 0.0, 0.0, 0.0, 0.0, 0.0, 0.0, 0.0, 0.0, 0.0, 0.0, 0.0, 0.0, 0.0, 0.0, 0.0, 0.0, 0.0, 0.0, 0.0, 0.0, 0.0, 0.0, 0.0, 0.0, 0.0, 0.0]\n",
      "\n",
      "==================================================\n",
      "\n",
      "\n",
      "Processing video 5/5\n",
      "Video 5 Information:\n",
      "Page Title: شركاء من أوروبا وأمريكا الشمالية.. كلية الرباط للأعمال تجمع ممثلي جامعات دولية في الرباط #هسبريس #Hespress #فيديو_هسبريس #جامعات_دولية… | Instagram\n",
      "Link: https://www.instagram.com/reel/CzryuOaJkRx/\n",
      "Likes Count: 213\n",
      "Comments Count:  0 comments\n",
      "Date: 2023-11-15T23:01:07.000Z\n",
      "Comments List: ['hespress\\n 2 h\\nشركاء من أوروبا وأمريكا الشمالية.. كلية الرباط للأعمال تجمع ممثلي جامعات دولية في الرباط\\n\\n#هسبريس #Hespress #فيديو_هسبريس\\n#جامعات_دولية #أوروبا #أمريكا #كلية_الرباط', '213 J’aime']\n",
      "Most Common Words: [('#', 7), ('أوروبا', 2), ('الرباط', 2), ('hespress', 1), ('2', 1)]\n",
      "Languages: ['ar', 'fi']\n",
      "Polarities: [0.0, 0.0]\n",
      "\n",
      "==================================================\n",
      "\n"
     ]
    }
   ],
   "source": [
    "# ...\n",
    "\n",
    "date_specifique = \"2023-11-15\"  # Mettez la date que vous souhaitez ici\n",
    "\n",
    "# ...\n",
    "\n",
    "# Récupérer des statistiques pour chaque vidéo\n",
    "data_list = []\n",
    "for i, video_link in enumerate(video_links[:nombre_videos]):\n",
    "    print(f\"\\nProcessing video {i + 1}/{nombre_videos}\")\n",
    "    data = Statistiques(video_link)\n",
    "\n",
    "    # Ajouter une condition pour filtrer les vidéos en fonction de la date spécifique\n",
    "    if data['Date'] and date_specifique in data['Date']:\n",
    "        data_list.append(data)\n",
    "\n",
    "        # Imprimer les informations pour chaque vidéo\n",
    "        print(f\"Video {i + 1} Information:\")\n",
    "        print(\"Page Title:\", data['Page Title'])\n",
    "        print(\"Link:\", data['link'])\n",
    "        print(\"Likes Count:\", data['Likes Count'])\n",
    "        print(\"Comments Count:\", data['Comments Count'])\n",
    "        print(\"Date:\", data['Date'])\n",
    "        print(\"Comments List:\", data['Comments List'])\n",
    "        \n",
    "\n",
    "# ...\n",
    "\n",
    "        \n",
    " # Nouveaux résultats ajoutés\n",
    "        print(\"Most Common Words:\", data['Most Common Words'])\n",
    "        print(\"Languages:\", data['Languages'])\n",
    "        print(\"Polarities:\", data['Polarities'])\n",
    "\n",
    "        print(\"\\n\" + \"=\"*50 + \"\\n\")  # Séparateur visuel entre les vidéos\n",
    "\n",
    "# ...\n"
   ]
  },
  {
   "cell_type": "code",
   "execution_count": 48,
   "id": "552e3758",
   "metadata": {},
   "outputs": [],
   "source": [
    "import json\n",
    "# Enregistrer les données au format JSON\n",
    "with open('data.json', 'w') as json_file:\n",
    "    json.dump(data_list, json_file)\n"
   ]
  },
  {
   "cell_type": "code",
   "execution_count": 49,
   "id": "ab15dbe4",
   "metadata": {},
   "outputs": [
    {
     "data": {
      "text/plain": [
       "<_io.TextIOWrapper name='data.json' mode='w' encoding='cp1252'>"
      ]
     },
     "execution_count": 49,
     "metadata": {},
     "output_type": "execute_result"
    }
   ],
   "source": [
    "json_file"
   ]
  },
  {
   "cell_type": "code",
   "execution_count": 50,
   "id": "389a1f7d",
   "metadata": {},
   "outputs": [
    {
     "data": {
      "text/plain": [
       "{'Page Title': 'شركاء من أوروبا وأمريكا الشمالية.. كلية الرباط للأعمال تجمع ممثلي جامعات دولية في الرباط #هسبريس #Hespress #فيديو_هسبريس #جامعات_دولية…\\xa0| Instagram',\n",
       " 'link': 'https://www.instagram.com/reel/CzryuOaJkRx/',\n",
       " 'Likes Count': '213',\n",
       " 'Comments Count': ' 0 comments',\n",
       " 'Date': '2023-11-15T23:01:07.000Z',\n",
       " 'Comments List': ['hespress\\n 2 h\\nشركاء من أوروبا وأمريكا الشمالية.. كلية الرباط للأعمال تجمع ممثلي جامعات دولية في الرباط\\n\\n#هسبريس #Hespress #فيديو_هسبريس\\n#جامعات_دولية #أوروبا #أمريكا #كلية_الرباط',\n",
       "  '213 J’aime'],\n",
       " 'Most Common Words': [('#', 7),\n",
       "  ('أوروبا', 2),\n",
       "  ('الرباط', 2),\n",
       "  ('hespress', 1),\n",
       "  ('2', 1)],\n",
       " 'Languages': ['ar', 'fi'],\n",
       " 'Polarities': [0.0, 0.0]}"
      ]
     },
     "execution_count": 50,
     "metadata": {},
     "output_type": "execute_result"
    }
   ],
   "source": [
    "data"
   ]
  },
  {
   "cell_type": "code",
   "execution_count": 52,
   "id": "e70e6e2f",
   "metadata": {},
   "outputs": [],
   "source": [
    "with open(\"data.json\", \"w\") as json_file:\n",
    "    json.dump(data, json_file, indent=4)"
   ]
  },
  {
   "cell_type": "code",
   "execution_count": 53,
   "id": "73b52c38",
   "metadata": {},
   "outputs": [],
   "source": [
    "import json\n",
    "\n",
    "# Ouvrir le fichier JSON en lecture\n",
    "with open(\"data.json\", \"r\") as json_file:\n",
    "    data = json.load(json_file)"
   ]
  },
  {
   "cell_type": "code",
   "execution_count": null,
   "id": "0e2bb9ca",
   "metadata": {},
   "outputs": [],
   "source": []
  }
 ],
 "metadata": {
  "kernelspec": {
   "display_name": "Python 3 (ipykernel)",
   "language": "python",
   "name": "python3"
  },
  "language_info": {
   "codemirror_mode": {
    "name": "ipython",
    "version": 3
   },
   "file_extension": ".py",
   "mimetype": "text/x-python",
   "name": "python",
   "nbconvert_exporter": "python",
   "pygments_lexer": "ipython3",
   "version": "3.9.13"
  }
 },
 "nbformat": 4,
 "nbformat_minor": 5
}
