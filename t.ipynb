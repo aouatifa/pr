{
 "cells": [
  {
   "cell_type": "code",
   "execution_count": 1,
   "id": "5310b5aa",
   "metadata": {},
   "outputs": [
    {
     "name": "stdout",
     "output_type": "stream",
     "text": [
      "Requirement already satisfied: selenium in c:\\users\\ait boulahcen\\anaconda3\\lib\\site-packages (4.15.2)\n",
      "Requirement already satisfied: trio-websocket~=0.9 in c:\\users\\ait boulahcen\\anaconda3\\lib\\site-packages (from selenium) (0.11.1)\n",
      "Requirement already satisfied: certifi>=2021.10.8 in c:\\users\\ait boulahcen\\anaconda3\\lib\\site-packages (from selenium) (2022.9.14)\n",
      "Requirement already satisfied: trio~=0.17 in c:\\users\\ait boulahcen\\anaconda3\\lib\\site-packages (from selenium) (0.23.1)\n",
      "Requirement already satisfied: urllib3[socks]<3,>=1.26 in c:\\users\\ait boulahcen\\anaconda3\\lib\\site-packages (from selenium) (1.26.11)\n",
      "Requirement already satisfied: cffi>=1.14 in c:\\users\\ait boulahcen\\anaconda3\\lib\\site-packages (from trio~=0.17->selenium) (1.15.1)\n",
      "Requirement already satisfied: outcome in c:\\users\\ait boulahcen\\anaconda3\\lib\\site-packages (from trio~=0.17->selenium) (1.3.0.post0)\n",
      "Requirement already satisfied: sortedcontainers in c:\\users\\ait boulahcen\\anaconda3\\lib\\site-packages (from trio~=0.17->selenium) (2.4.0)\n",
      "Requirement already satisfied: attrs>=20.1.0 in c:\\users\\ait boulahcen\\anaconda3\\lib\\site-packages (from trio~=0.17->selenium) (21.4.0)\n",
      "Requirement already satisfied: sniffio>=1.3.0 in c:\\users\\ait boulahcen\\anaconda3\\lib\\site-packages (from trio~=0.17->selenium) (1.3.0)\n",
      "Requirement already satisfied: idna in c:\\users\\ait boulahcen\\anaconda3\\lib\\site-packages (from trio~=0.17->selenium) (3.3)\n",
      "Requirement already satisfied: exceptiongroup>=1.0.0rc9 in c:\\users\\ait boulahcen\\anaconda3\\lib\\site-packages (from trio~=0.17->selenium) (1.1.3)\n",
      "Requirement already satisfied: wsproto>=0.14 in c:\\users\\ait boulahcen\\anaconda3\\lib\\site-packages (from trio-websocket~=0.9->selenium) (1.2.0)\n",
      "Requirement already satisfied: PySocks!=1.5.7,<2.0,>=1.5.6 in c:\\users\\ait boulahcen\\anaconda3\\lib\\site-packages (from urllib3[socks]<3,>=1.26->selenium) (1.7.1)\n",
      "Requirement already satisfied: pycparser in c:\\users\\ait boulahcen\\anaconda3\\lib\\site-packages (from cffi>=1.14->trio~=0.17->selenium) (2.21)\n",
      "Requirement already satisfied: h11<1,>=0.9.0 in c:\\users\\ait boulahcen\\anaconda3\\lib\\site-packages (from wsproto>=0.14->trio-websocket~=0.9->selenium) (0.14.0)\n"
     ]
    }
   ],
   "source": [
    "!pip install selenium"
   ]
  },
  {
   "cell_type": "code",
   "execution_count": 2,
   "id": "e87d3746",
   "metadata": {},
   "outputs": [
    {
     "name": "stdout",
     "output_type": "stream",
     "text": [
      "Requirement already satisfied: langdetect in c:\\users\\ait boulahcen\\anaconda3\\lib\\site-packages (1.0.9)\n",
      "Requirement already satisfied: six in c:\\users\\ait boulahcen\\anaconda3\\lib\\site-packages (from langdetect) (1.16.0)\n"
     ]
    }
   ],
   "source": [
    "!pip install langdetect\n"
   ]
  },
  {
   "cell_type": "code",
   "execution_count": 3,
   "id": "e2b91f90",
   "metadata": {},
   "outputs": [
    {
     "name": "stdout",
     "output_type": "stream",
     "text": [
      "Requirement already satisfied: nltk in c:\\users\\ait boulahcen\\anaconda3\\lib\\site-packages (3.7)\n",
      "Requirement already satisfied: click in c:\\users\\ait boulahcen\\anaconda3\\lib\\site-packages (from nltk) (8.0.4)\n",
      "Requirement already satisfied: joblib in c:\\users\\ait boulahcen\\anaconda3\\lib\\site-packages (from nltk) (1.1.0)\n",
      "Requirement already satisfied: tqdm in c:\\users\\ait boulahcen\\anaconda3\\lib\\site-packages (from nltk) (4.64.1)\n",
      "Requirement already satisfied: regex>=2021.8.3 in c:\\users\\ait boulahcen\\anaconda3\\lib\\site-packages (from nltk) (2022.7.9)\n",
      "Requirement already satisfied: colorama in c:\\users\\ait boulahcen\\anaconda3\\lib\\site-packages (from click->nltk) (0.4.5)\n"
     ]
    }
   ],
   "source": [
    "!pip install nltk"
   ]
  },
  {
   "cell_type": "code",
   "execution_count": 13,
   "id": "10d4400d",
   "metadata": {},
   "outputs": [
    {
     "ename": "NameError",
     "evalue": "name 'nltk' is not defined",
     "output_type": "error",
     "traceback": [
      "\u001b[1;31m---------------------------------------------------------------------------\u001b[0m",
      "\u001b[1;31mNameError\u001b[0m                                 Traceback (most recent call last)",
      "\u001b[1;32m~\\AppData\\Local\\Temp\\ipykernel_19176\\3490408283.py\u001b[0m in \u001b[0;36m<module>\u001b[1;34m\u001b[0m\n\u001b[1;32m----> 1\u001b[1;33m \u001b[0mnltk\u001b[0m\u001b[1;33m.\u001b[0m\u001b[0mdownload\u001b[0m\u001b[1;33m(\u001b[0m\u001b[1;34m'punkt'\u001b[0m\u001b[1;33m)\u001b[0m\u001b[1;33m\u001b[0m\u001b[1;33m\u001b[0m\u001b[0m\n\u001b[0m",
      "\u001b[1;31mNameError\u001b[0m: name 'nltk' is not defined"
     ]
    }
   ],
   "source": [
    "nltk.download('punkt')\n"
   ]
  },
  {
   "cell_type": "code",
   "execution_count": 5,
   "id": "80f176b8",
   "metadata": {},
   "outputs": [],
   "source": [
    "\n",
    "#imports here\n",
    "from selenium import webdriver\n",
    "from selenium.webdriver.common.keys import Keys\n",
    "from selenium.webdriver.support import expected_conditions as EC\n",
    "from selenium.webdriver.common.by import By\n",
    "from selenium.webdriver.support.wait import WebDriverWait\n",
    "\n",
    "\n",
    "from selenium import webdriver\n",
    "import time, urllib.request\n",
    "from selenium import webdriver\n",
    "from selenium.webdriver import ChromeOptions\n",
    "from selenium.webdriver.common.action_chains import ActionChains\n",
    "from selenium.webdriver.common.by import By\n",
    "\n",
    "from selenium.webdriver import ChromeOptions\n",
    "from selenium.webdriver.common.action_chains import ActionChains\n",
    "import pandas as pd\n",
    "\n",
    "from selenium.webdriver.support.ui import WebDriverWait\n",
    "from selenium.webdriver.common.action_chains import ActionChains\n",
    "from selenium.common.exceptions import NoSuchElementException\n",
    "\n",
    "\n",
    "\n",
    "\n",
    "from selenium.webdriver.common.keys import Keys\n",
    "from selenium.webdriver.common.by import By\n",
    "from selenium.webdriver.common.action_chains import ActionChains\n",
    "from selenium.webdriver.support.ui import WebDriverWait\n",
    "from selenium.webdriver.support import expected_conditions as EC\n",
    "import time\n",
    "import pandas as pd\n",
    "\n",
    "\n",
    "from selenium import webdriver\n",
    "from selenium.webdriver.common.by import By\n",
    "from selenium.webdriver.common.keys import Keys\n",
    "from selenium.webdriver.common.action_chains import ActionChains\n",
    "from selenium.webdriver.support.ui import WebDriverWait\n",
    "from selenium.webdriver.support import expected_conditions as EC\n",
    "import pandas as pd\n",
    "import time\n",
    "\n",
    "\n",
    "from selenium import webdriver\n",
    "from selenium.webdriver.common.keys import Keys\n",
    "from selenium.webdriver.support import expected_conditions as EC\n",
    "from selenium.webdriver.common.by import By\n",
    "from selenium.webdriver.support.wait import WebDriverWait\n",
    "import time\n",
    "import re\n",
    "import pandas as pd"
   ]
  },
  {
   "cell_type": "code",
   "execution_count": 21,
   "id": "325052fa",
   "metadata": {},
   "outputs": [],
   "source": [
    "from selenium import webdriver\n",
    "from selenium.webdriver.common.by import By\n",
    "from selenium.webdriver.support.ui import WebDriverWait\n",
    "from selenium.webdriver.support import expected_conditions as EC\n",
    "\n",
    "driver = webdriver.Chrome()\n",
    "driver.get(\"http://www.instagram.com\")\n",
    "\n",
    "# Attentes explicites pour les éléments de connexion\n",
    "username = WebDriverWait(driver, 10).until(EC.element_to_be_clickable((By.CSS_SELECTOR, \"input[name='username']\")))\n",
    "password = WebDriverWait(driver, 10).until(EC.element_to_be_clickable((By.CSS_SELECTOR, \"input[name='password']\")))\n",
    "\n",
    "username.clear()\n",
    "username.send_keys(\"aouuatif\")\n",
    "password.clear()\n",
    "password.send_keys(\"****\")\n",
    "\n",
    "button = WebDriverWait(driver, 5).until(EC.element_to_be_clickable((By.CSS_SELECTOR, \"button[type='submit']\")))\n",
    "button.click()\n",
    "\n",
    "# Attentes explicites pour les boutons \"Not Now\"\n",
    "try:\n",
    "    not_now_button = WebDriverWait(driver, 5).until(EC.element_to_be_clickable((By.XPATH, '//button[contains(text(), \"Save Info\")]')))\n",
    "    not_now_button.click()\n",
    "except Exception as e:\n",
    "    pass\n",
    "\n",
    "try:\n",
    "    not_now_button = WebDriverWait(driver, 5).until(EC.element_to_be_clickable((By.XPATH, '//button[contains(text(), \"Not Now\")]')))\n",
    "    not_now_button.click()\n",
    "except Exception as e:\n",
    "    pass\n",
    "\n",
    "# Attendre que la page se charge après la connexion\n",
    "WebDriverWait(driver, 10).until(EC.url_changes(\"http://www.instagram.com\"))\n",
    "\n",
    "keyword = \"dior\"\n",
    "driver.get(f\"https://www.instagram.com/{keyword}/reels/\")\n",
    "\n",
    "# Vous pouvez également utiliser une attente explicite ici pour vous assurer que la page a été chargée avec succès\n",
    "# par exemple : WebDriverWait(driver, 10).until(EC.url_contains(f\"https://www.instagram.com/{keyword}/reels/\"))\n",
    "\n",
    "# Attente pour s'assurer que la page Reels est chargée\n",
    "#WebDriverWait(driver, 10).until(EC.presence_of_element_located((By.XPATH, \"//div[@role='button' and contains(text(), 'Watch')]\")))\n"
   ]
  },
  {
   "cell_type": "code",
   "execution_count": 22,
   "id": "9e60b3b2",
   "metadata": {},
   "outputs": [],
   "source": [
    "driver.execute_script(\"window.scrollBy(0,600)\",\"\")"
   ]
  },
  {
   "cell_type": "code",
   "execution_count": 23,
   "id": "f214db0e",
   "metadata": {},
   "outputs": [],
   "source": [
    "driver.implicitly_wait(60)\n",
    "\n",
    "views = driver.find_elements(By.XPATH, '//div[@class=\"_aajy\"]//span[contains(@class, \"x1vvkbs\")]')\n",
    "\n"
   ]
  },
  {
   "cell_type": "code",
   "execution_count": 24,
   "id": "9d1ab979",
   "metadata": {},
   "outputs": [
    {
     "data": {
      "text/plain": [
       "'1,2 M'"
      ]
     },
     "execution_count": 24,
     "metadata": {},
     "output_type": "execute_result"
    }
   ],
   "source": [
    "views[0].text"
   ]
  },
  {
   "cell_type": "code",
   "execution_count": 25,
   "id": "b5f50b7b",
   "metadata": {},
   "outputs": [
    {
     "name": "stdout",
     "output_type": "stream",
     "text": [
      "Found 24 video links\n",
      "['https://www.instagram.com/reel/CzycpEQI1Yv/', 'https://www.instagram.com/reel/Czy4QzjoUtN/', 'https://www.instagram.com/reel/CzycxieIRCd/', 'https://www.instagram.com/reel/CzyBVrfIHU0/', 'https://www.instagram.com/reel/Czn74GjI-RJ/']\n"
     ]
    }
   ],
   "source": [
    "# Obtenir tous les liens 'a'\n",
    "liens = driver.find_elements(By.TAG_NAME,'a')\n",
    "\n",
    "# Filtrer les liens commençant par \"https://www.instagram.com/reel/\"\n",
    "video_links = [a.get_attribute('href') for a in liens if str(a.get_attribute('href')).startswith(\"https://www.instagram.com/reel/\")]\n",
    "\n",
    "# Imprimer les résultats\n",
    "print('Found ' + str(len(video_links)) + ' video links')\n",
    "print(video_links[:5])"
   ]
  },
  {
   "cell_type": "code",
   "execution_count": 26,
   "id": "ff201459",
   "metadata": {},
   "outputs": [
    {
     "data": {
      "text/plain": [
       "<selenium.webdriver.remote.webelement.WebElement (session=\"317576e1383536f279f76c3b78b28b3b\", element=\"A500EB69A3B374955F4CC17EB269EA6F_element_127\")>"
      ]
     },
     "execution_count": 26,
     "metadata": {},
     "output_type": "execute_result"
    }
   ],
   "source": [
    "liens[0]"
   ]
  },
  {
   "cell_type": "code",
   "execution_count": 27,
   "id": "50ba16a3",
   "metadata": {},
   "outputs": [],
   "source": [
    "driver.get(video_links[0])"
   ]
  },
  {
   "cell_type": "code",
   "execution_count": 51,
   "id": "463338d2",
   "metadata": {},
   "outputs": [
    {
     "name": "stderr",
     "output_type": "stream",
     "text": [
      "[nltk_data] Downloading package vader_lexicon to C:\\Users\\Ait\n",
      "[nltk_data]     Boulahcen\\AppData\\Roaming\\nltk_data...\n",
      "[nltk_data]   Package vader_lexicon is already up-to-date!\n"
     ]
    }
   ],
   "source": [
    "import nltk\n",
    "from langdetect import detect\n",
    "from nltk.sentiment import SentimentIntensityAnalyzer\n",
    "from collections import Counter\n",
    "from selenium.webdriver.common.by import By\n",
    "import time\n",
    "\n",
    "nltk.download('vader_lexicon')\n",
    "\n",
    "def calculate_language_percentages(languages):\n",
    "    total_comments = len(languages)\n",
    "    language_counts = Counter(languages)\n",
    "    language_percentages = {lang: count / total_comments * 100 for lang, count in language_counts.items()}\n",
    "    return language_percentages\n",
    "\n",
    "def Statistiques(link):\n",
    "    driver.get(link)\n",
    "    page_title = driver.title\n",
    "    comments_list = []\n",
    "    time.sleep(10)\n",
    "\n",
    "    # Extract comments\n",
    "    comments = driver.find_elements(By.XPATH, '//span[@class=\"x1lliihq x1plvlek xryxfnj x1n2onr6 x193iq5w xeuugli x1fj9vlw x13faqbe x1vvkbs x1s928wv xhkezso x1gmr53x x1cpjm7i x1fgarty x1943h6x x1i0vuye xvs91rp xo1l8bm x5n08af x10wh9bi x1wdrske x8viiok x18hxmgj\"]')\n",
    "\n",
    "    for comment in comments:\n",
    "        comments_list.append(comment.text)\n",
    "\n",
    "    # Find likes element\n",
    "    likes_elements = driver.find_elements(By.CLASS_NAME, \"html-span.xdj266r.x11i5rnm.xat24cr.x1mh8g0r.xexx8yu.x4uap5.x18d9i69.xkhd6sd.x1hl2dhg.x16tdsg8.x1vvkbs\")\n",
    "\n",
    "    if likes_elements:\n",
    "        likes_element = likes_elements[0]\n",
    "        likes_count = likes_element.text\n",
    "    else:\n",
    "        likes_count = 0\n",
    "\n",
    "    # Find meta tags\n",
    "    meta_tags = driver.find_elements(By.CSS_SELECTOR, 'meta[property=\"og:description\"]')\n",
    "\n",
    "    if meta_tags:\n",
    "        content = meta_tags[0].get_attribute(\"content\")\n",
    "        comments_Count = content.split('-')[0].strip()\n",
    "        split_comments = comments_Count.split(',')\n",
    "        if len(split_comments) > 1:\n",
    "            second_part = split_comments[1]\n",
    "        else:\n",
    "            second_part = None\n",
    "\n",
    "    # Extract date using datetime attribute\n",
    "    date_element = driver.find_element(By.XPATH, '//time[@class=\"_aaqe\"]')\n",
    "    extracted_date = date_element.get_attribute('datetime') if date_element else None\n",
    "\n",
    "    # Analyser la polarité de chaque commentaire\n",
    "    sia = SentimentIntensityAnalyzer()\n",
    "    polarities = []\n",
    "\n",
    "    for comment in comments_list:\n",
    "        try:\n",
    "            polarity = sia.polarity_scores(comment)['compound']\n",
    "            polarities.append(polarity)\n",
    "        except Exception as e:\n",
    "            print(f\"Error analyzing polarity: {e}\")\n",
    "\n",
    "    # Exclure le premier commentaire\n",
    "    filtered_comments = [comment for comment, polarity in zip(comments_list[1:], polarities[1:]) if polarity != 0.0]\n",
    "    filtered_polarities = [polarity for polarity in polarities[1:] if polarity != 0.0]\n",
    "\n",
    "    # Analyser les commentaires pour obtenir les mots les plus fréquents\n",
    "    all_comments_text = ' '.join(filtered_comments)\n",
    "    words = nltk.word_tokenize(all_comments_text)\n",
    "    word_frequencies = Counter(words)\n",
    "    most_common_words = word_frequencies.most_common(5)  # Les 5 mots les plus fréquents\n",
    "\n",
    "    # Déterminer la langue de chaque commentaire\n",
    "    languages = []\n",
    "    for comment in filtered_comments:\n",
    "        if len(comment) > 3:  # Vérifiez que le commentaire est assez long\n",
    "            try:\n",
    "                language = detect(comment)\n",
    "                languages.append(language)\n",
    "            except Exception as e:\n",
    "                print(f\"Error detecting language: {e}\")\n",
    "        else:\n",
    "            languages.append(None)\n",
    "\n",
    "    # Utiliser la fonction pour calculer les pourcentages de langues\n",
    "    language_percentages = calculate_language_percentages(languages)\n",
    "\n",
    "    # Arrondir chaque pourcentage à deux chiffres après la virgule\n",
    "    rounded_language_percentages = {lang: round(percentage, 2) for lang, percentage in language_percentages.items()}\n",
    "    # Exécuter du JavaScript pour obtenir la durée de la vidéo\n",
    "    duration_script = \"return document.querySelector('video').duration;\"\n",
    "    duration = driver.execute_script(duration_script)\n",
    "    \n",
    "    \n",
    "    # Convertir la durée en minutes\n",
    "    duration_minutes = round(duration / 60, 2)\n",
    "    \n",
    "    # Imprimer la durée en minutes\n",
    "    print(\"Durée de la vidéo:\", duration_minutes, \"minutes\")\n",
    "    \n",
    "\n",
    "\n",
    "\n",
    "    data = {\n",
    "        'Page Title': page_title,\n",
    "        'link': link,\n",
    "        'Likes Count': likes_count,\n",
    "        'Comments Count': second_part,\n",
    "        'Date': extracted_date,\n",
    "        'Comments List': filtered_comments,\n",
    "        'Most Common Words': most_common_words,\n",
    "        'Languages': languages,\n",
    "        'Language Percentages': rounded_language_percentages,\n",
    "        'Polarities': filtered_polarities,\n",
    "        'Video Duration': duration,\n",
    "        # Ajoutez d'autres champs au besoin\n",
    "    }\n",
    "\n",
    "    return data\n"
   ]
  },
  {
   "cell_type": "code",
   "execution_count": 52,
   "id": "1cfa6079",
   "metadata": {},
   "outputs": [
    {
     "name": "stdout",
     "output_type": "stream",
     "text": [
      "Durée de la vidéo: 0.88 minutes\n"
     ]
    },
    {
     "data": {
      "text/plain": [
       "{'Page Title': \"Within the dream-spun realms of Mexico's rich heritage, the Métamorphose necklace emerges as a vision by @MariaGraziaChiuri. Its delicate…\\xa0| Instagram\",\n",
       " 'link': 'https://www.instagram.com/reel/CzycxieIRCd/',\n",
       " 'Likes Count': '42\\u202f056',\n",
       " 'Comments Count': ' 331 comments',\n",
       " 'Date': '2023-11-18T01:00:00.000Z',\n",
       " 'Comments List': ['we love palestine❤️❤️❤️❤️',\n",
       "  'We need it to be affordable too. Not just for the rich.',\n",
       "  '😍😍😍 butterfly wax creation is wonderful 🦋',\n",
       "  'Love everything about this 💙💙💙',\n",
       "  'Love it💗💗💗',\n",
       "  'So beautiful ❤️'],\n",
       " 'Most Common Words': [('.', 2),\n",
       "  ('Love', 2),\n",
       "  ('we', 1),\n",
       "  ('love', 1),\n",
       "  ('palestine❤️❤️❤️❤️', 1)],\n",
       " 'Languages': ['en', 'en', 'en', 'en', 'en', 'ro'],\n",
       " 'Language Percentages': {'en': 83.33, 'ro': 16.67},\n",
       " 'Polarities': [0.6369, 0.5574, 0.7003, 0.6369, 0.6369, 0.6361],\n",
       " 'Video Duration': 52.93333333333333}"
      ]
     },
     "execution_count": 52,
     "metadata": {},
     "output_type": "execute_result"
    }
   ],
   "source": [
    "Statistiques(video_links[2])"
   ]
  },
  {
   "cell_type": "code",
   "execution_count": 53,
   "id": "8b1049e9",
   "metadata": {},
   "outputs": [],
   "source": [
    "# Ajoutez cette importation au début de votre code\n",
    "from selenium.webdriver.common.keys import Keys\n",
    "\n",
    "# ...\n",
    "\n",
    "def extraire_videos_reels(keyword, nombre_videos=5):\n",
    "    # ... (votre code existant)\n",
    "\n",
    "    # Récupérer des statistiques pour chaque vidéo\n",
    "    data_list = []\n",
    "    for i, video_link in enumerate(video_links[:nombre_videos]):\n",
    "        print(f\"\\nProcessing video {i + 1}/{nombre_videos}\")\n",
    "        data = Statistiques(video_link)\n",
    "\n",
    "        # Cliquez sur le bouton suivant pour passer à la vidéo suivante\n",
    "        bouton_suivant = driver.find_element(By.CSS_SELECTOR, 'button._abl-')\n",
    "        bouton_suivant.click()\n",
    "\n",
    "        data_list.append(data)\n",
    "\n",
    "    return data_list\n",
    "\n",
    "# ...\n"
   ]
  },
  {
   "cell_type": "code",
   "execution_count": 55,
   "id": "b6cd4c02",
   "metadata": {},
   "outputs": [
    {
     "name": "stdout",
     "output_type": "stream",
     "text": [
      "\n",
      "Processing video 1/5\n",
      "Durée de la vidéo: 1.5 minutes\n",
      "Video 1 Information:\n",
      "Page Title: Filmed getting ready for the @BazaarUK Women of the Year Awards 2023, #DiorJoaillerie ambassador @JennaOrtega delivers a playful twist on… | Instagram\n",
      "Link: https://www.instagram.com/reel/CzycpEQI1Yv/\n",
      "Likes Count: 38 559\n",
      "Comments Count:  322 comments\n",
      "Date: 2023-11-18T13:00:01.000Z\n",
      "Comments List: ['Jenna deserved this award, she is a talented actress', 'free palestine', 'the most cutest person in the world.', 'Jenna has the perfect dressing style ❤️', 'Classy Lady 🤍\\U0001fabd', 'she got her well-deserved award, I love her']\n",
      "Polarities: [0.8139, 0.5106, 0.624, 0.5719, 0.4404, 0.8271]\n",
      "Languages: ['en', 'fr', 'en', 'en', 'cy', 'en']\n",
      "Language Percentages: {'en': 66.67, 'fr': 16.67, 'cy': 16.67}\n",
      "Durée de la vidéo: 1.5 minutes\n",
      "\n",
      "==================================================\n",
      "\n",
      "\n",
      "Processing video 2/5\n",
      "Durée de la vidéo: 0.72 minutes\n",
      "Video 2 Information:\n",
      "Page Title: Encounter the pinnacle of couture craftsmanship with the leather 'Dior West' boots, a highlight of the #DiorCruise 2024 collection. Here… | Instagram\n",
      "Link: https://www.instagram.com/reel/Czy4QzjoUtN/\n",
      "Likes Count: 25 982\n",
      "Comments Count:  270 comments\n",
      "Date: 2023-11-18T05:00:00.000Z\n",
      "Comments List: ['Free Palestine 🇵🇸', 'Free palestine 🇵🇸🇵🇸🇵🇸🇵🇸', 'Palestine is free 🇵🇸🇵🇸🇵🇸', 'Freedom of Palestinian !!!!! 🇵🇸🇵🇸🇵🇸🇵🇸🇵🇸🇵🇸🇵🇸🇵🇸🇵🇸', \"It's really wonderful and creative 🌸\", 'Hand diamond 💎', 'So many amazing french fashion houses. Be proud of your hard work', \"@mariagraziachiuri didn't miss with these, what a great piece 👏🏾👏🏾\", 'OMG 😱 They are really beautiful Perfect for @nnattawin And @milephakphum 💚💛 Ambassadors of the house of @dior Tailandia 🇹🇭']\n",
      "Polarities: [0.5106, 0.5106, 0.5106, 0.7482, 0.7996, 0.6808, 0.7769, 0.6751, 0.847]\n",
      "Languages: ['fr', 'fr', 'en', 'en', 'en', 'en', 'en', 'en', 'en']\n",
      "Language Percentages: {'fr': 22.22, 'en': 77.78}\n",
      "Durée de la vidéo: 0.72 minutes\n",
      "\n",
      "==================================================\n",
      "\n",
      "\n",
      "Processing video 3/5\n",
      "Durée de la vidéo: 0.88 minutes\n",
      "Video 3 Information:\n",
      "Page Title: Within the dream-spun realms of Mexico's rich heritage, the Métamorphose necklace emerges as a vision by @MariaGraziaChiuri. Its delicate… | Instagram\n",
      "Link: https://www.instagram.com/reel/CzycxieIRCd/\n",
      "Likes Count: 42 110\n",
      "Comments Count:  331 comments\n",
      "Date: 2023-11-18T01:00:00.000Z\n",
      "Comments List: ['we love palestine❤️❤️❤️❤️', 'We need it to be affordable too. Not just for the rich.', '😍😍😍 butterfly wax creation is wonderful 🦋', 'Love everything about this 💙💙💙', 'Love it💗💗💗', 'So beautiful ❤️']\n",
      "Polarities: [0.6369, 0.5574, 0.7003, 0.6369, 0.6369, 0.6361]\n",
      "Languages: ['en', 'en', 'en', 'en', 'en', 'ro']\n",
      "Language Percentages: {'en': 83.33, 'ro': 16.67}\n",
      "Durée de la vidéo: 0.88 minutes\n",
      "\n",
      "==================================================\n",
      "\n",
      "\n",
      "Processing video 4/5\n",
      "Durée de la vidéo: 0.7 minutes\n",
      "Video 4 Information:\n",
      "Page Title: Infused with the spirit of Mexico's illustrious culture, the Metamorphose belt from #DiorCruise 2024 by @MariaGraziaChiuri, emerges as a… | Instagram\n",
      "Link: https://www.instagram.com/reel/CzyBVrfIHU0/\n",
      "Likes Count: 13 134\n",
      "Comments Count:  157 comments\n",
      "Date: 2023-11-17T21:00:00.000Z\n",
      "Comments List: ['Free Palestine', 'Stunning ❤️', 'Le savoir-faire artisanal de très grande qualité, rendons hommage aux petites mains au grand cœur d’ouvrage ❤️❤️❤️❤️❤️❤️❤️', 'Fantastic allows the best ❤️', 'Amazing', 'Love! 💙💙💙']\n",
      "Polarities: [0.5106, 0.3818, 0.4588, 0.8316, 0.5859, 0.6696]\n",
      "Languages: ['en', 'de', 'fr', 'en', 'sw', 'sl']\n",
      "Language Percentages: {'en': 33.33, 'de': 16.67, 'fr': 16.67, 'sw': 16.67, 'sl': 16.67}\n",
      "Durée de la vidéo: 0.7 minutes\n",
      "\n",
      "==================================================\n",
      "\n",
      "\n",
      "Processing video 5/5\n",
      "Durée de la vidéo: 0.73 minutes\n",
      "Video 5 Information:\n",
      "Page Title: Delight in the idea of a mountainous getaway through the #DiorAlps capsule by @MariaGraziaChiuri. The palette, spanning tranquil blues… | Instagram\n",
      "Link: https://www.instagram.com/reel/Czn74GjI-RJ/\n",
      "Likes Count: 17 967\n",
      "Comments Count:  630 comments\n",
      "Date: 2023-11-14T11:00:00.000Z\n",
      "Comments List: ['Shame on U Dior SHAME SHAME', 'More than half your clients are from Arab origin, how about giving back?🇵🇸🇵🇸🇵🇸🇵🇸🇵🇸🇵🇸🇵🇸', 'MUCH RESPECT', 'Dior is supports 4,500 unaliving of children']\n",
      "Polarities: [-0.8949, 0.34, 0.4767, 0.3612]\n",
      "Languages: ['en', 'en', 'de', 'en']\n",
      "Language Percentages: {'en': 75.0, 'de': 25.0}\n",
      "Durée de la vidéo: 0.73 minutes\n",
      "\n",
      "==================================================\n",
      "\n"
     ]
    }
   ],
   "source": [
    "date_specifique = \"2023-11-18\"  # Mettez la date que vous souhaitez ici\n",
    "\n",
    "# ...\n",
    "\n",
    "# Récupérer des statistiques pour chaque vidéo\n",
    "data_list = []\n",
    "for i, video_link in enumerate(video_links[:nombre_videos]):\n",
    "    print(f\"\\nProcessing video {i + 1}/{nombre_videos}\")\n",
    "    data = Statistiques(video_link)\n",
    "\n",
    "    # Ajouter une condition pour filtrer les vidéos en fonction de la date spécifique\n",
    "    if data['Date'] and date_specifique in data['Date']:\n",
    "        data_list.append(data)\n",
    "        \n",
    "    # Imprimer les informations pour chaque vidéo\n",
    "    print(f\"Video {i + 1} Information:\")\n",
    "    print(\"Page Title:\", data['Page Title'])\n",
    "    print(\"Link:\", data['link'])\n",
    "    print(\"Likes Count:\", data['Likes Count'])\n",
    "    print(\"Comments Count:\", data['Comments Count'])\n",
    "    print(\"Date:\", data['Date'])\n",
    "    print(\"Comments List:\", data['Comments List'])\n",
    "    print(\"Polarities:\", data['Polarities'])\n",
    "    print(\"Languages:\", data['Languages'])\n",
    "    print(\"Language Percentages:\", data['Language Percentages'])\n",
    "    \n",
    "    # Exécuter du JavaScript pour obtenir la durée de la vidéo\n",
    "    duration_script = \"return document.querySelector('video').duration;\"\n",
    "    duration_seconds = driver.execute_script(duration_script)\n",
    "    \n",
    "    # Convertir la durée en minutes\n",
    "    duration_minutes = round(duration_seconds / 60,2)\n",
    "    \n",
    "    # Imprimer la durée en minutes\n",
    "    print(\"Durée de la vidéo:\", duration_minutes, \"minutes\")\n",
    "    \n",
    "    print(\"\\n\" + \"=\"*50 + \"\\n\")  # Séparateur visuel entre les vidéos\n",
    "\n",
    "\n",
    "\n",
    "# ...\n"
   ]
  },
  {
   "cell_type": "code",
   "execution_count": 59,
   "id": "3723da7b",
   "metadata": {},
   "outputs": [
    {
     "name": "stdout",
     "output_type": "stream",
     "text": [
      "Collecting emoji\n",
      "  Downloading emoji-2.8.0-py2.py3-none-any.whl (358 kB)\n",
      "     ------------------------------------- 358.9/358.9 kB 29.7 kB/s eta 0:00:00\n",
      "Installing collected packages: emoji\n",
      "Successfully installed emoji-2.8.0\n"
     ]
    }
   ],
   "source": [
    "!pip install emoji\n"
   ]
  },
  {
   "cell_type": "code",
   "execution_count": 60,
   "id": "3652b006",
   "metadata": {},
   "outputs": [
    {
     "name": "stderr",
     "output_type": "stream",
     "text": [
      "Exception in callback BaseAsyncIOLoop._handle_events(1428, 1)\n",
      "handle: <Handle BaseAsyncIOLoop._handle_events(1428, 1)>\n",
      "Traceback (most recent call last):\n",
      "  File \"C:\\Users\\Ait Boulahcen\\anaconda3\\lib\\site-packages\\jupyter_client\\session.py\", line 99, in json_packer\n",
      "    return json.dumps(\n",
      "UnicodeEncodeError: 'utf-8' codec can't encode characters in position 43-46: surrogates not allowed\n",
      "\n",
      "During handling of the above exception, another exception occurred:\n",
      "\n",
      "Traceback (most recent call last):\n",
      "  File \"C:\\Users\\Ait Boulahcen\\anaconda3\\lib\\asyncio\\events.py\", line 80, in _run\n",
      "    self._context.run(self._callback, *self._args)\n",
      "  File \"C:\\Users\\Ait Boulahcen\\anaconda3\\lib\\site-packages\\tornado\\platform\\asyncio.py\", line 189, in _handle_events\n",
      "    handler_func(fileobj, events)\n",
      "  File \"C:\\Users\\Ait Boulahcen\\anaconda3\\lib\\site-packages\\zmq\\eventloop\\zmqstream.py\", line 577, in _handle_events\n",
      "    self._handle_recv()\n",
      "  File \"C:\\Users\\Ait Boulahcen\\anaconda3\\lib\\site-packages\\zmq\\eventloop\\zmqstream.py\", line 606, in _handle_recv\n",
      "    self._run_callback(callback, msg)\n",
      "  File \"C:\\Users\\Ait Boulahcen\\anaconda3\\lib\\site-packages\\zmq\\eventloop\\zmqstream.py\", line 556, in _run_callback\n",
      "    callback(*args, **kwargs)\n",
      "  File \"C:\\Users\\Ait Boulahcen\\anaconda3\\lib\\site-packages\\ipykernel\\iostream.py\", line 120, in _handle_event\n",
      "    event_f()\n",
      "  File \"C:\\Users\\Ait Boulahcen\\anaconda3\\lib\\site-packages\\ipykernel\\iostream.py\", line 510, in _flush\n",
      "    self.session.send(\n",
      "  File \"C:\\Users\\Ait Boulahcen\\anaconda3\\lib\\site-packages\\jupyter_client\\session.py\", line 844, in send\n",
      "    to_send = self.serialize(msg, ident)\n",
      "  File \"C:\\Users\\Ait Boulahcen\\anaconda3\\lib\\site-packages\\jupyter_client\\session.py\", line 718, in serialize\n",
      "    content = self.pack(content)\n",
      "  File \"C:\\Users\\Ait Boulahcen\\anaconda3\\lib\\site-packages\\jupyter_client\\session.py\", line 107, in json_packer\n",
      "    packed = json.dumps(\n",
      "UnicodeEncodeError: 'utf-8' codec can't encode characters in position 43-46: surrogates not allowed\n"
     ]
    }
   ],
   "source": [
    "import emoji\n",
    "\n",
    "# Votre liste de commentaires\n",
    "comments_list = [\n",
    "    \"Free Palestine \\ud83c\\uddf5\\ud83c\\uddf8\",\n",
    "    \"Free palestine \\ud83c\\uddf5\\ud83c\\uddf8\\ud83c\\uddf5\\ud83c\\uddf8\\ud83c\\uddf5\\ud83c\\uddf8\\ud83c\\uddf5\\ud83c\\uddf8\\ud83c\\uddf5\\ud83c\\uddf8\",\n",
    "    # ... autres commentaires ...\n",
    "]\n",
    "\n",
    "# Décoder les emojis dans chaque commentaire\n",
    "decoded_comments = [emoji.demojize(comment) for comment in comments_list]\n",
    "\n",
    "# Afficher les commentaires décodés\n",
    "for comment in decoded_comments:\n",
    "    print(comment)\n"
   ]
  },
  {
   "cell_type": "code",
   "execution_count": 62,
   "id": "6c659c53",
   "metadata": {},
   "outputs": [
    {
     "name": "stdout",
     "output_type": "stream",
     "text": [
      "Les résultats ont été sauvegardés dans le fichier : resultats_vid.json\n"
     ]
    }
   ],
   "source": [
    "# Sauvegarder les données dans un fichier JSON\n",
    "output_file_path = \"resultats_vid.json\"\n",
    "with open(output_file_path, 'w') as json_file:\n",
    "    json.dump(data_list, json_file, indent=2)\n",
    "\n",
    "print(f\"Les résultats ont été sauvegardés dans le fichier : {output_file_path}\")"
   ]
  },
  {
   "cell_type": "code",
   "execution_count": null,
   "id": "ff7c8d5a",
   "metadata": {},
   "outputs": [],
   "source": []
  }
 ],
 "metadata": {
  "kernelspec": {
   "display_name": "Python 3 (ipykernel)",
   "language": "python",
   "name": "python3"
  },
  "language_info": {
   "codemirror_mode": {
    "name": "ipython",
    "version": 3
   },
   "file_extension": ".py",
   "mimetype": "text/x-python",
   "name": "python",
   "nbconvert_exporter": "python",
   "pygments_lexer": "ipython3",
   "version": "3.9.13"
  }
 },
 "nbformat": 4,
 "nbformat_minor": 5
}
