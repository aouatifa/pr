{
 "cells": [
  {
   "cell_type": "code",
   "execution_count": 41,
   "id": "36cba013",
   "metadata": {},
   "outputs": [],
   "source": [
    "from selenium import webdriver\n",
    "from selenium.webdriver.common.keys import Keys\n",
    "from selenium.webdriver.support import expected_conditions as EC\n",
    "from selenium.webdriver.common.by import By\n",
    "from selenium.webdriver.support.wait import WebDriverWait\n",
    "import time\n",
    "import re\n",
    "import pandas as pd"
   ]
  },
  {
   "cell_type": "code",
   "execution_count": 42,
   "id": "27b1531a",
   "metadata": {},
   "outputs": [],
   "source": [
    "driver = webdriver.Chrome()\n",
    "driver.get(\"http://www.instagram.com\")\n",
    "username = WebDriverWait(driver, 10).until(EC.element_to_be_clickable((By.CSS_SELECTOR, \"input[name='username']\")))\n",
    "password = WebDriverWait(driver, 10).until(EC.element_to_be_clickable((By.CSS_SELECTOR, \"input[name='password']\")))\n",
    "username.clear()\n",
    "username.send_keys(\"fatizohra.mlk\")\n",
    "password.clear()\n",
    "password.send_keys(\"*******\")\n",
    "button = WebDriverWait(driver, 5).until(EC.element_to_be_clickable((By.CSS_SELECTOR, \"button[type='submit']\")))\n",
    "button.click()\n",
    "try:\n",
    "    not_now_button = WebDriverWait(driver,5).until(EC.element_to_be_clickable((By.XPATH, '//button[contains(text(), \"Save Info\")]')))\n",
    "    not_now_button.click()\n",
    "except Exception as e:\n",
    "    pass\n",
    "try:\n",
    "    not_now_button = WebDriverWait(driver,5).until(EC.element_to_be_clickable((By.XPATH, '//button[contains(text(), \"Not Now\")]')))\n",
    "    not_now_button.click()\n",
    "except Exception as e:\n",
    "    pass\n",
    "time.sleep(5)  \n",
    "keyword = \"hespress\"\n",
    "driver.get(f\"https://www.instagram.com/{keyword}/reels/\")\n",
    "time.sleep(5)  "
   ]
  },
  {
   "cell_type": "code",
   "execution_count": 43,
   "id": "13889e48",
   "metadata": {},
   "outputs": [],
   "source": [
    "n_scrolls = 2\n",
    "for j in range(0, n_scrolls):\n",
    "    driver.execute_script(\"window.scrollTo(0, document.body.scrollHeight);\")\n",
    "    time.sleep(5)"
   ]
  },
  {
   "cell_type": "code",
   "execution_count": 44,
   "id": "f358e521",
   "metadata": {},
   "outputs": [
    {
     "name": "stdout",
     "output_type": "stream",
     "text": [
      "Found 36 video links\n",
      "['https://www.instagram.com/reel/CzkDTMLJCre/', 'https://www.instagram.com/reel/Czj8wxJMHhT/', 'https://www.instagram.com/reel/Czj3uMgB6V7/', 'https://www.instagram.com/reel/Czjzva5xUmV/', 'https://www.instagram.com/reel/CzjzVzWL1ON/']\n"
     ]
    }
   ],
   "source": [
    "\n",
    "# Obtenir tous les liens 'a'\n",
    "liens = driver.find_elements(By.TAG_NAME,'a')\n",
    "\n",
    "# Filtrer les liens commençant par \"https://www.instagram.com/reel/\"\n",
    "video_links = [a.get_attribute('href') for a in liens if str(a.get_attribute('href')).startswith(\"https://www.instagram.com/reel/\")]\n",
    "\n",
    "# Imprimer les résultats\n",
    "print('Found ' + str(len(video_links)) + ' video links')\n",
    "print(video_links[:5])"
   ]
  },
  {
   "cell_type": "code",
   "execution_count": 45,
   "id": "29e94873",
   "metadata": {},
   "outputs": [
    {
     "data": {
      "text/plain": [
       "<selenium.webdriver.remote.webelement.WebElement (session=\"e34ead9e5fb452f7150433c83fe28865\", element=\"BDCD05A5E670B3D3468ED79B356172AF_element_76\")>"
      ]
     },
     "execution_count": 45,
     "metadata": {},
     "output_type": "execute_result"
    }
   ],
   "source": [
    "liens[0]"
   ]
  },
  {
   "cell_type": "code",
   "execution_count": 46,
   "id": "8b1f7379",
   "metadata": {},
   "outputs": [],
   "source": [
    "driver.get(video_links[0])"
   ]
  },
  {
   "cell_type": "code",
   "execution_count": 49,
   "id": "bb13eacf",
   "metadata": {},
   "outputs": [],
   "source": [
    "# def Statistiques(link):\n",
    "#     driver.get(link)\n",
    "#     page_title = driver.title\n",
    "#     comments_list=[]\n",
    "#     time.sleep(10)\n",
    "#     likes_elements = driver.find_elements(By.CLASS_NAME, \"html-span.xdj266r.x11i5rnm.xat24cr.x1mh8g0r.xexx8yu.x4uap5.x18d9i69.xkhd6sd.x1hl2dhg.x16tdsg8.x1vvkbs\")\n",
    "    \n",
    "#     if likes_elements:\n",
    "#         likes_element = likes_elements[0]\n",
    "#         likes_count = likes_element.text\n",
    "#     else:\n",
    "#         likes_count = 0\n",
    "\n",
    "#     # meta_tags = driver.find_elements_by_css_selector('meta[property=\"og:description\"]')\n",
    "#     meta_tags = driver.find_elements(By.CSS_SELECTOR,'meta[property=\"og:description\"]')\n",
    "\n",
    "#     if meta_tags:\n",
    "#         content = meta_tags[0].get_attribute(\"content\")\n",
    "#         comments_Count = content.split('-')[0].strip()\n",
    "#         split_comments = comments_Count.split(',')\n",
    "#         if len(split_comments) > 1:\n",
    "#             second_part = split_comments[1]\n",
    "#         else:\n",
    "#             second_part=None\n",
    "#     likes_count=likes_element.text\n",
    "#     #extrct date \n",
    "#     date_pattern = r'on (\\w+ \\d{1,2}, \\d{4})'\n",
    "#     # Search for the date pattern in the text\n",
    "#     match = re.search(date_pattern, content)\n",
    "#     # If a match is found, extract the matched date\n",
    "#     if match:\n",
    "#         extracted_date = match.group(1)\n",
    "#     else:\n",
    "#         extracted_date=None\n",
    "#     comments = driver.find_elements(By.XPATH, '//span[@class=\"x1lliihq x1plvlek xryxfnj x1n2onr6 x193iq5w xeuugli x1fj9vlw x13faqbe x1vvkbs x1s928wv xhkezso x1gmr53x x1cpjm7i x1fgarty x1943h6x x1i0vuye xvs91rp xo1l8bm x5n08af x10wh9bi x1wdrske x8viiok x18hxmgj\"]')\n",
    "#     for comment in comments:\n",
    "#         comments_list.append(comment.text)\n",
    "#     # id = driver.find_element_by_xpath('//meta[@property=\"al:ios:url\"]')\n",
    "#     # idc = id.get_attribute(\"content\")\n",
    "#     pattern = r'instagram://media\\?id=(\\d+)'\n",
    "#     match = re.search(pattern,idc)\n",
    "#     date_pattern = r'on (\\w+ \\d{1,2}, \\d{4})'\n",
    "#     # Search for the date pattern in the text\n",
    "#     match = re.search(date_pattern, content)\n",
    "#     if match:\n",
    "#         extracted_date = match.group(1)\n",
    "#     else:\n",
    "#         extracted_date = None \n",
    "#     data = {\n",
    "#         'Page Title': page_title,\n",
    "#         'link':link,\n",
    "#         'Likes Count': likes_count,\n",
    "#         'Comments Count': second_part,\n",
    "#         'Date': extracted_date,\n",
    "#         'Comments List': comments_list\n",
    "#     }\n",
    "#     return data\n",
    "def Statistiques(link):\n",
    "    driver.get(link)\n",
    "    page_title = driver.title\n",
    "    comments_list = []\n",
    "    time.sleep(10)\n",
    "    \n",
    "    # Find likes element\n",
    "    likes_elements = driver.find_elements(By.CLASS_NAME, \"html-span.xdj266r.x11i5rnm.xat24cr.x1mh8g0r.xexx8yu.x4uap5.x18d9i69.xkhd6sd.x1hl2dhg.x16tdsg8.x1vvkbs\")\n",
    "    \n",
    "    if likes_elements:\n",
    "        likes_element = likes_elements[0]\n",
    "        likes_count = likes_element.text\n",
    "    else:\n",
    "        likes_count = 0\n",
    "\n",
    "    # Find meta tags\n",
    "    meta_tags = driver.find_elements(By.CSS_SELECTOR, 'meta[property=\"og:description\"]')\n",
    "\n",
    "    if meta_tags:\n",
    "        content = meta_tags[0].get_attribute(\"content\")\n",
    "        comments_Count = content.split('-')[0].strip()\n",
    "        split_comments = comments_Count.split(',')\n",
    "        if len(split_comments) > 1:\n",
    "            second_part = split_comments[1]\n",
    "        else:\n",
    "            second_part = None\n",
    "\n",
    "    # Extract date\n",
    "    date_pattern = r'on (\\w+ \\d{1,2}, \\d{4})'\n",
    "    match = re.search(date_pattern, content)\n",
    "    \n",
    "    # If a match is found, extract the matched date\n",
    "    if match:\n",
    "        extracted_date = match.group(1)\n",
    "    else:\n",
    "        extracted_date = None\n",
    "\n",
    "    # Extract comments\n",
    "    comments = driver.find_elements(By.XPATH, '//span[@class=\"x1lliihq x1plvlek xryxfnj x1n2onr6 x193iq5w xeuugli x1fj9vlw x13faqbe x1vvkbs x1s928wv xhkezso x1gmr53x x1cpjm7i x1fgarty x1943h6x x1i0vuye xvs91rp xo1l8bm x5n08af x10wh9bi x1wdrske x8viiok x18hxmgj\"]')\n",
    "    \n",
    "    for comment in comments:\n",
    "        comments_list.append(comment.text)\n",
    "\n",
    "    # Extract idc (uncomment if needed)\n",
    "    # id = driver.find_element_by_xpath('//meta[@property=\"al:ios:url\"]')\n",
    "    # idc = id.get_attribute(\"content\")\n",
    "\n",
    "    # Extract idc (commented out in your code)\n",
    "    # pattern = r'instagram://media\\?id=(\\d+)'\n",
    "    # match = re.search(pattern, idc)\n",
    "\n",
    "    # Extract date again (duplicate code)\n",
    "    date_pattern = r'on (\\w+ \\d{1,2}, \\d{4})'\n",
    "    \n",
    "    # Search for the date pattern in the text\n",
    "    match = re.search(date_pattern, content)\n",
    "    \n",
    "    if match:\n",
    "        extracted_date = match.group(1)\n",
    "    else:\n",
    "        extracted_date = None \n",
    "\n",
    "    data = {\n",
    "        'Page Title': page_title,\n",
    "        'link': link,\n",
    "        'Likes Count': likes_count,\n",
    "        'Comments Count': second_part,\n",
    "        'Date': extracted_date,\n",
    "        'Comments List': comments_list\n",
    "    }\n",
    "\n",
    "    return data\n"
   ]
  },
  {
   "cell_type": "code",
   "execution_count": 50,
   "id": "be855be5",
   "metadata": {},
   "outputs": [
    {
     "data": {
      "text/plain": [
       "{'Page Title': 'دعما لغزة .. وقفة احتجاجية ببني ملال ترفض العدوان الإسرائيلي على الشعب الفلسطيني . #هسبريس #Hespress #إسرائيل #فلسطين #بني_ملال…\\xa0| Instagram',\n",
       " 'link': 'https://www.instagram.com/reel/Czj3uMgB6V7/',\n",
       " 'Likes Count': '1\\u202f390',\n",
       " 'Comments Count': '390 likes',\n",
       " 'Date': 'November 12, 2023',\n",
       " 'Comments List': ['hespress\\n 2 h\\nدعما لغزة .. وقفة احتجاجية ببني ملال ترفض العدوان الإسرائيلي على الشعب الفلسطيني\\n.\\n#هسبريس #Hespress\\n#إسرائيل #فلسطين #بني_ملال #غزة\\n#هسبريس_فيديو',\n",
       "  'pinto_israel_355',\n",
       "  'هذا ليس عدوان إسرائيلي هذا رد إسرائيلي على عدوان حماس واخواتها الداعشية. 🇮🇱🇮🇱',\n",
       "  'hamza_baha22',\n",
       "  'غريب. فاش كنمشي لفجر.كاع مكنلقا هاد ناس كاملين مشاو يصليو. كولشي ناعس... وبنادم كيتسنا النصر من عند الله.وبغا يجاهد',\n",
       "  'rosalinda_.o0',\n",
       "  'الشعوب العربية كلها متضامنة مع غزة إلا الحكام متخاذلين🙂',\n",
       "  'savepalestina1948',\n",
       "  'كل الحب والتقدير من فلسطين الى المغاربة الذين بنادون اسقطوا التطبيع انتم الاحرار الذي نفتخر بكم والى من يطبلوا للتطبيع لن نغفر لكم ودماء اطفالنا انتم سبب بها وحسبي الله ونعم الوكيل',\n",
       "  'mohamed.saoudi.7503',\n",
       "  'يجب الوقوف ضد ملككم وايقاف التطبيع مع الكيان',\n",
       "  'samaraalamu',\n",
       "  'وعلاش التغاريد؟؟؟؟؟؟😮😮',\n",
       "  'nissrine_benslimane',\n",
       "  'او ناس لي كتهضر على الصحراء مغربية اكيدربوهوم البوليزاريو انا صرت ليك الفيديو ف مدريد الإسبانية ضربو واحد الراجل تعداو عليه حيت قال الصحراء الغربية 😢😢😢',\n",
       "  'yassirbenii',\n",
       "  'الامريكيين قتاحمو الكونغرس قاطعو المنتجات ديالهم و قاطعو البنوك و كل نهار مظاهرات بعشرات و مئات الالاف علاش منديروش بحالهم؟',\n",
       "  'chafi_abderrahman',\n",
       "  'الأنظمة العربية كحكومة رئيس وزرائها هو الاحتلال الصهيوني والمعارضة تتمثل في حماس',\n",
       "  'anwaar_hl',\n",
       "  'Mamchawx i9raw 😂 omchaw idamno mea gaza',\n",
       "  'mouli_mouli5',\n",
       "  'حسبنا الله ونعم الوكيل لا حول و لا قوة الا بالله العلي العظيم',\n",
       "  'linx_pit',\n",
       "  'الأردن 800mb ب 400 درهم. المغرب 200mb ب 1000 dh',\n",
       "  'aziz.tg.52',\n",
       "  'تحية فلسطين وغزة',\n",
       "  'zhor.ben_9083',\n",
       "  '@pinto_israel_355 الذباب الالكتروني هضرتكم زايدة ناقصة.أصلا ماكايناش شس حاجة اسمها اسراةيل كاينة فىسطين المحتلة',\n",
       "  '1\\u202f390 J’aime']}"
      ]
     },
     "execution_count": 50,
     "metadata": {},
     "output_type": "execute_result"
    }
   ],
   "source": [
    "Statistiques(video_links[2])"
   ]
  },
  {
   "cell_type": "code",
   "execution_count": 51,
   "id": "d4cad8b2",
   "metadata": {},
   "outputs": [],
   "source": [
    "def Instascrap(liste,file_name):\n",
    "    documents=[]\n",
    "    for link in liste:\n",
    "        documents.append(Statistiques(link))\n",
    "    json_filename = file_name\n",
    "    with open(json_filename, 'w',encoding='utf-8') as json_file:\n",
    "        json.dump(documents, json_file, indent=4)"
   ]
  },
  {
   "cell_type": "code",
   "execution_count": 52,
   "id": "1d249027",
   "metadata": {},
   "outputs": [
    {
     "ename": "InvalidArgumentException",
     "evalue": "Message: invalid argument: 'url' must be a string\n  (Session info: chrome=119.0.6045.124)\nStacktrace:\n\tGetHandleVerifier [0x00007FF6BD0782B2+55298]\n\t(No symbol) [0x00007FF6BCFE5E02]\n\t(No symbol) [0x00007FF6BCEA05AB]\n\t(No symbol) [0x00007FF6BCF1AEFA]\n\t(No symbol) [0x00007FF6BCF020AA]\n\t(No symbol) [0x00007FF6BCF1AAA4]\n\t(No symbol) [0x00007FF6BCF01E83]\n\t(No symbol) [0x00007FF6BCED670A]\n\t(No symbol) [0x00007FF6BCED7964]\n\tGetHandleVerifier [0x00007FF6BD3F0AAB+3694587]\n\tGetHandleVerifier [0x00007FF6BD44728E+4048862]\n\tGetHandleVerifier [0x00007FF6BD43F173+4015811]\n\tGetHandleVerifier [0x00007FF6BD1147D6+695590]\n\t(No symbol) [0x00007FF6BCFF0CE8]\n\t(No symbol) [0x00007FF6BCFECF34]\n\t(No symbol) [0x00007FF6BCFED062]\n\t(No symbol) [0x00007FF6BCFDD3A3]\n\tBaseThreadInitThunk [0x00007FFCE5B87344+20]\n\tRtlUserThreadStart [0x00007FFCE5E626B1+33]\n",
     "output_type": "error",
     "traceback": [
      "\u001b[1;31m---------------------------------------------------------------------------\u001b[0m",
      "\u001b[1;31mInvalidArgumentException\u001b[0m                  Traceback (most recent call last)",
      "\u001b[1;32m~\\AppData\\Local\\Temp\\ipykernel_19876\\2571007233.py\u001b[0m in \u001b[0;36m<module>\u001b[1;34m\u001b[0m\n\u001b[0;32m      1\u001b[0m \u001b[0mfile_name\u001b[0m\u001b[1;33m=\u001b[0m\u001b[1;34m'Instagram.json'\u001b[0m\u001b[1;33m\u001b[0m\u001b[1;33m\u001b[0m\u001b[0m\n\u001b[1;32m----> 2\u001b[1;33m \u001b[0mInstascrap\u001b[0m\u001b[1;33m(\u001b[0m\u001b[0mliens\u001b[0m\u001b[1;33m,\u001b[0m\u001b[0mfile_name\u001b[0m\u001b[1;33m)\u001b[0m\u001b[1;33m\u001b[0m\u001b[1;33m\u001b[0m\u001b[0m\n\u001b[0m",
      "\u001b[1;32m~\\AppData\\Local\\Temp\\ipykernel_19876\\2127171721.py\u001b[0m in \u001b[0;36mInstascrap\u001b[1;34m(liste, file_name)\u001b[0m\n\u001b[0;32m      2\u001b[0m     \u001b[0mdocuments\u001b[0m\u001b[1;33m=\u001b[0m\u001b[1;33m[\u001b[0m\u001b[1;33m]\u001b[0m\u001b[1;33m\u001b[0m\u001b[1;33m\u001b[0m\u001b[0m\n\u001b[0;32m      3\u001b[0m     \u001b[1;32mfor\u001b[0m \u001b[0mlink\u001b[0m \u001b[1;32min\u001b[0m \u001b[0mliste\u001b[0m\u001b[1;33m:\u001b[0m\u001b[1;33m\u001b[0m\u001b[1;33m\u001b[0m\u001b[0m\n\u001b[1;32m----> 4\u001b[1;33m         \u001b[0mdocuments\u001b[0m\u001b[1;33m.\u001b[0m\u001b[0mappend\u001b[0m\u001b[1;33m(\u001b[0m\u001b[0mStatistiques\u001b[0m\u001b[1;33m(\u001b[0m\u001b[0mlink\u001b[0m\u001b[1;33m)\u001b[0m\u001b[1;33m)\u001b[0m\u001b[1;33m\u001b[0m\u001b[1;33m\u001b[0m\u001b[0m\n\u001b[0m\u001b[0;32m      5\u001b[0m     \u001b[0mjson_filename\u001b[0m \u001b[1;33m=\u001b[0m \u001b[0mfile_name\u001b[0m\u001b[1;33m\u001b[0m\u001b[1;33m\u001b[0m\u001b[0m\n\u001b[0;32m      6\u001b[0m     \u001b[1;32mwith\u001b[0m \u001b[0mopen\u001b[0m\u001b[1;33m(\u001b[0m\u001b[0mjson_filename\u001b[0m\u001b[1;33m,\u001b[0m \u001b[1;34m'w'\u001b[0m\u001b[1;33m,\u001b[0m\u001b[0mencoding\u001b[0m\u001b[1;33m=\u001b[0m\u001b[1;34m'utf-8'\u001b[0m\u001b[1;33m)\u001b[0m \u001b[1;32mas\u001b[0m \u001b[0mjson_file\u001b[0m\u001b[1;33m:\u001b[0m\u001b[1;33m\u001b[0m\u001b[1;33m\u001b[0m\u001b[0m\n",
      "\u001b[1;32m~\\AppData\\Local\\Temp\\ipykernel_19876\\4240447211.py\u001b[0m in \u001b[0;36mStatistiques\u001b[1;34m(link)\u001b[0m\n\u001b[0;32m     57\u001b[0m \u001b[1;31m#     return data\u001b[0m\u001b[1;33m\u001b[0m\u001b[1;33m\u001b[0m\u001b[0m\n\u001b[0;32m     58\u001b[0m \u001b[1;32mdef\u001b[0m \u001b[0mStatistiques\u001b[0m\u001b[1;33m(\u001b[0m\u001b[0mlink\u001b[0m\u001b[1;33m)\u001b[0m\u001b[1;33m:\u001b[0m\u001b[1;33m\u001b[0m\u001b[1;33m\u001b[0m\u001b[0m\n\u001b[1;32m---> 59\u001b[1;33m     \u001b[0mdriver\u001b[0m\u001b[1;33m.\u001b[0m\u001b[0mget\u001b[0m\u001b[1;33m(\u001b[0m\u001b[0mlink\u001b[0m\u001b[1;33m)\u001b[0m\u001b[1;33m\u001b[0m\u001b[1;33m\u001b[0m\u001b[0m\n\u001b[0m\u001b[0;32m     60\u001b[0m     \u001b[0mpage_title\u001b[0m \u001b[1;33m=\u001b[0m \u001b[0mdriver\u001b[0m\u001b[1;33m.\u001b[0m\u001b[0mtitle\u001b[0m\u001b[1;33m\u001b[0m\u001b[1;33m\u001b[0m\u001b[0m\n\u001b[0;32m     61\u001b[0m     \u001b[0mcomments_list\u001b[0m \u001b[1;33m=\u001b[0m \u001b[1;33m[\u001b[0m\u001b[1;33m]\u001b[0m\u001b[1;33m\u001b[0m\u001b[1;33m\u001b[0m\u001b[0m\n",
      "\u001b[1;32m~\\AppData\\Roaming\\Python\\Python39\\site-packages\\selenium\\webdriver\\remote\\webdriver.py\u001b[0m in \u001b[0;36mget\u001b[1;34m(self, url)\u001b[0m\n\u001b[0;32m    354\u001b[0m     \u001b[1;32mdef\u001b[0m \u001b[0mget\u001b[0m\u001b[1;33m(\u001b[0m\u001b[0mself\u001b[0m\u001b[1;33m,\u001b[0m \u001b[0murl\u001b[0m\u001b[1;33m:\u001b[0m \u001b[0mstr\u001b[0m\u001b[1;33m)\u001b[0m \u001b[1;33m->\u001b[0m \u001b[1;32mNone\u001b[0m\u001b[1;33m:\u001b[0m\u001b[1;33m\u001b[0m\u001b[1;33m\u001b[0m\u001b[0m\n\u001b[0;32m    355\u001b[0m         \u001b[1;34m\"\"\"Loads a web page in the current browser session.\"\"\"\u001b[0m\u001b[1;33m\u001b[0m\u001b[1;33m\u001b[0m\u001b[0m\n\u001b[1;32m--> 356\u001b[1;33m         \u001b[0mself\u001b[0m\u001b[1;33m.\u001b[0m\u001b[0mexecute\u001b[0m\u001b[1;33m(\u001b[0m\u001b[0mCommand\u001b[0m\u001b[1;33m.\u001b[0m\u001b[0mGET\u001b[0m\u001b[1;33m,\u001b[0m \u001b[1;33m{\u001b[0m\u001b[1;34m\"url\"\u001b[0m\u001b[1;33m:\u001b[0m \u001b[0murl\u001b[0m\u001b[1;33m}\u001b[0m\u001b[1;33m)\u001b[0m\u001b[1;33m\u001b[0m\u001b[1;33m\u001b[0m\u001b[0m\n\u001b[0m\u001b[0;32m    357\u001b[0m \u001b[1;33m\u001b[0m\u001b[0m\n\u001b[0;32m    358\u001b[0m     \u001b[1;33m@\u001b[0m\u001b[0mproperty\u001b[0m\u001b[1;33m\u001b[0m\u001b[1;33m\u001b[0m\u001b[0m\n",
      "\u001b[1;32m~\\AppData\\Roaming\\Python\\Python39\\site-packages\\selenium\\webdriver\\remote\\webdriver.py\u001b[0m in \u001b[0;36mexecute\u001b[1;34m(self, driver_command, params)\u001b[0m\n\u001b[0;32m    345\u001b[0m         \u001b[0mresponse\u001b[0m \u001b[1;33m=\u001b[0m \u001b[0mself\u001b[0m\u001b[1;33m.\u001b[0m\u001b[0mcommand_executor\u001b[0m\u001b[1;33m.\u001b[0m\u001b[0mexecute\u001b[0m\u001b[1;33m(\u001b[0m\u001b[0mdriver_command\u001b[0m\u001b[1;33m,\u001b[0m \u001b[0mparams\u001b[0m\u001b[1;33m)\u001b[0m\u001b[1;33m\u001b[0m\u001b[1;33m\u001b[0m\u001b[0m\n\u001b[0;32m    346\u001b[0m         \u001b[1;32mif\u001b[0m \u001b[0mresponse\u001b[0m\u001b[1;33m:\u001b[0m\u001b[1;33m\u001b[0m\u001b[1;33m\u001b[0m\u001b[0m\n\u001b[1;32m--> 347\u001b[1;33m             \u001b[0mself\u001b[0m\u001b[1;33m.\u001b[0m\u001b[0merror_handler\u001b[0m\u001b[1;33m.\u001b[0m\u001b[0mcheck_response\u001b[0m\u001b[1;33m(\u001b[0m\u001b[0mresponse\u001b[0m\u001b[1;33m)\u001b[0m\u001b[1;33m\u001b[0m\u001b[1;33m\u001b[0m\u001b[0m\n\u001b[0m\u001b[0;32m    348\u001b[0m             \u001b[0mresponse\u001b[0m\u001b[1;33m[\u001b[0m\u001b[1;34m\"value\"\u001b[0m\u001b[1;33m]\u001b[0m \u001b[1;33m=\u001b[0m \u001b[0mself\u001b[0m\u001b[1;33m.\u001b[0m\u001b[0m_unwrap_value\u001b[0m\u001b[1;33m(\u001b[0m\u001b[0mresponse\u001b[0m\u001b[1;33m.\u001b[0m\u001b[0mget\u001b[0m\u001b[1;33m(\u001b[0m\u001b[1;34m\"value\"\u001b[0m\u001b[1;33m,\u001b[0m \u001b[1;32mNone\u001b[0m\u001b[1;33m)\u001b[0m\u001b[1;33m)\u001b[0m\u001b[1;33m\u001b[0m\u001b[1;33m\u001b[0m\u001b[0m\n\u001b[0;32m    349\u001b[0m             \u001b[1;32mreturn\u001b[0m \u001b[0mresponse\u001b[0m\u001b[1;33m\u001b[0m\u001b[1;33m\u001b[0m\u001b[0m\n",
      "\u001b[1;32m~\\AppData\\Roaming\\Python\\Python39\\site-packages\\selenium\\webdriver\\remote\\errorhandler.py\u001b[0m in \u001b[0;36mcheck_response\u001b[1;34m(self, response)\u001b[0m\n\u001b[0;32m    227\u001b[0m                 \u001b[0malert_text\u001b[0m \u001b[1;33m=\u001b[0m \u001b[0mvalue\u001b[0m\u001b[1;33m[\u001b[0m\u001b[1;34m\"alert\"\u001b[0m\u001b[1;33m]\u001b[0m\u001b[1;33m.\u001b[0m\u001b[0mget\u001b[0m\u001b[1;33m(\u001b[0m\u001b[1;34m\"text\"\u001b[0m\u001b[1;33m)\u001b[0m\u001b[1;33m\u001b[0m\u001b[1;33m\u001b[0m\u001b[0m\n\u001b[0;32m    228\u001b[0m             \u001b[1;32mraise\u001b[0m \u001b[0mexception_class\u001b[0m\u001b[1;33m(\u001b[0m\u001b[0mmessage\u001b[0m\u001b[1;33m,\u001b[0m \u001b[0mscreen\u001b[0m\u001b[1;33m,\u001b[0m \u001b[0mstacktrace\u001b[0m\u001b[1;33m,\u001b[0m \u001b[0malert_text\u001b[0m\u001b[1;33m)\u001b[0m  \u001b[1;31m# type: ignore[call-arg]  # mypy is not smart enough here\u001b[0m\u001b[1;33m\u001b[0m\u001b[1;33m\u001b[0m\u001b[0m\n\u001b[1;32m--> 229\u001b[1;33m         \u001b[1;32mraise\u001b[0m \u001b[0mexception_class\u001b[0m\u001b[1;33m(\u001b[0m\u001b[0mmessage\u001b[0m\u001b[1;33m,\u001b[0m \u001b[0mscreen\u001b[0m\u001b[1;33m,\u001b[0m \u001b[0mstacktrace\u001b[0m\u001b[1;33m)\u001b[0m\u001b[1;33m\u001b[0m\u001b[1;33m\u001b[0m\u001b[0m\n\u001b[0m",
      "\u001b[1;31mInvalidArgumentException\u001b[0m: Message: invalid argument: 'url' must be a string\n  (Session info: chrome=119.0.6045.124)\nStacktrace:\n\tGetHandleVerifier [0x00007FF6BD0782B2+55298]\n\t(No symbol) [0x00007FF6BCFE5E02]\n\t(No symbol) [0x00007FF6BCEA05AB]\n\t(No symbol) [0x00007FF6BCF1AEFA]\n\t(No symbol) [0x00007FF6BCF020AA]\n\t(No symbol) [0x00007FF6BCF1AAA4]\n\t(No symbol) [0x00007FF6BCF01E83]\n\t(No symbol) [0x00007FF6BCED670A]\n\t(No symbol) [0x00007FF6BCED7964]\n\tGetHandleVerifier [0x00007FF6BD3F0AAB+3694587]\n\tGetHandleVerifier [0x00007FF6BD44728E+4048862]\n\tGetHandleVerifier [0x00007FF6BD43F173+4015811]\n\tGetHandleVerifier [0x00007FF6BD1147D6+695590]\n\t(No symbol) [0x00007FF6BCFF0CE8]\n\t(No symbol) [0x00007FF6BCFECF34]\n\t(No symbol) [0x00007FF6BCFED062]\n\t(No symbol) [0x00007FF6BCFDD3A3]\n\tBaseThreadInitThunk [0x00007FFCE5B87344+20]\n\tRtlUserThreadStart [0x00007FFCE5E626B1+33]\n"
     ]
    }
   ],
   "source": [
    "file_name='Instagram.json'\n",
    "Instascrap(liens,file_name)"
   ]
  },
  {
   "cell_type": "code",
   "execution_count": null,
   "id": "f2729beb",
   "metadata": {},
   "outputs": [],
   "source": []
  }
 ],
 "metadata": {
  "kernelspec": {
   "display_name": "Python 3 (ipykernel)",
   "language": "python",
   "name": "python3"
  },
  "language_info": {
   "codemirror_mode": {
    "name": "ipython",
    "version": 3
   },
   "file_extension": ".py",
   "mimetype": "text/x-python",
   "name": "python",
   "nbconvert_exporter": "python",
   "pygments_lexer": "ipython3",
   "version": "3.9.13"
  }
 },
 "nbformat": 4,
 "nbformat_minor": 5
}
